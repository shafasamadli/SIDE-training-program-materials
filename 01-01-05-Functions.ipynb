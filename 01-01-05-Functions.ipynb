{
 "cells": [
  {
   "cell_type": "markdown",
   "metadata": {},
   "source": [
    "YOU HAVE SEEN MANY EXAMPLES OF USING PYTHON BUILT-IN FUNCTIONS AND methods. We took at look at how functions work and how we could use them to manipulate string objects. In this chapter, you’ll learn how to create your own functions.\n",
    "The concept of a function should be familiar from its use in mathematics. Functions in programming languages share many of the characteristics of mathematical functions but add some unique features as well that make them more useful for programming.\n",
    "\n",
    "One of the main advantages for using functions is that they support divide-and-conquer problem solving. Divide-and-conquer  technique encourages you to break a problem down into simpler subproblems, solve those subproblems, and then assemble the smaller solutions into the overall solutions. Functions are a way to directly encode the “smaller subproblem” solution. You’ll see more about this as we work through this chapter."
   ]
  },
  {
   "cell_type": "markdown",
   "metadata": {},
   "source": [
    "**What is a function**\n",
    "\n",
    "In mathematics, a function deﬁnes the relationship between values. Consider the function `f(x)⇒√x`. If you provide a particular value of x, e.g., `x = 4`, the function will perform a calculation (here the square root operation) and return the associated value, e.g., 2. Mathematicians term the variable x the argument to the function and say that the function returns the value 2.\n",
    "\n",
    "It is possible for a function to have multiple arguments—for example, a function that cal- culates multiplication requires two arguments: `f (x, y ) ⇒ x ∗ y`. However, a mathematical function returns only one object. Note that the returned object can be a compound object— an object with multiple elements.\n",
    "\n",
    "A function is also important because it represents an **encapsulation**. By encapsulation, we mean that the details of an operation can be hidden, providing coarser operations that we as programmers can use without having to understand the function’s internal details. A function can represent the performance of an operation without making the reader plow through the details of how the operation is actually performed."
   ]
  },
  {
   "cell_type": "markdown",
   "metadata": {},
   "source": [
    "**Why have Functions**\n",
    "\n",
    "As you progress in learning to program, you’ll move from essential programming elements to important programming elements. Selection `if` and repetition `while` are essential programming constructs. It is difﬁcult to write any program without using these two essential features. Functions, on the other hand, allow us to write better code in the sense that it is more readable. Also, because functions allow us to divide programs into smaller pieces, they assist in divide-and-conquer problem solving. In that way, functions make programs easier to write. Finally, once a function is written, it can be shared and used by other programmers (including ourselves). Thus, functions provide a powerful construct that we can use to make our programs easier to read, write, and maintain.\n",
    "\n",
    "From this point on, many of the programming elements we introduce will make some tasks easier and will subsequently make writing and understanding (that is, reading) the program easier. You could write programs without them, but those programs would be more difﬁcult to read, write, and maintain.\n",
    "\n",
    "Functions provide the following features:\n",
    "\n",
    "* `Divide-and-conquer` problem solving: As we have already mentioned, functions divide programs into smaller pieces, an approach that corresponds nicely to a divide- and-conquer approach to problem solving (introduced in Section 3.4.5).\n",
    "\n",
    "* `Abstraction`: Functions provide a higher-level interface to operation that the function implements. By encapsulating details, functions provide a programmer with a high-level view of the function’s operation that could be implemented in multiple ways—possibly by someone else. By analogy, consider how you drive a car. It has a simple interface that hides considerable complexity. Your car has many options—for example, fuel-injection, turbo, or many others. Does the existence of these options change that basic interface you have to the car—i.e., turn the wheel, hit the gas, press the brake? Do you understand how fuel injection provides better performance for your car than a carburetor does? Do you care? You don’t have to know the difference: you simply drive the car. Abstraction means that the operation the function represents (drive the car) can be implemented in many ways that do not affect the basic car interface. The underlying operations can also be changed (upgrade the engine) without changing the interface.\n",
    "\n",
    "* `Reuse`: Once a function has been created, it can be reused. If you write a function that locates strings in a database, then anywhere that functionality is needed can use that function. The more such a function is needed, the “simpler” the code that uses it.\n",
    "\n",
    "* `Sharing`: Once your function is well tested, you can distribute it for use by other people. Those people can further test the function, reﬁne its capabilities, and through improve- ment provide a service to everyone in the ﬁeld. Useful functions can be collected into modules for sharing. Sharing of modules is one of Python’s strengths, as programmers generously share modules in many diverse areas.\n",
    "\n",
    "* `Security`: You hear again and again of security breaches in code: phone companies, computer distributors, software companies, etc. One way to battle security issues is the use of functions. Small pieces of code can be more easily vetted and security (and other issues) more easily addressed. Once they have been approved, they can be used to construct other secure components, which can also be reused, and so on. Building securely from the bottom up is one approach to writing secure code.\n",
    "\n",
    "* `Simpliﬁcation and readability` (duplication removal): Because a function provides an encapsulation, it can be used to simplify a program and make it more readable. Anywhere that multiple lines of code might be needed to address a problem, a function can replace those lines. If the replacement can be done in multiple places, the result is simpler code.\n"
   ]
  },
  {
   "cell_type": "markdown",
   "metadata": {},
   "source": [
    "**Python Functions**\n",
    "\n",
    "\n",
    "![](figures/function-parts.png)"
   ]
  },
  {
   "cell_type": "code",
   "execution_count": 1,
   "metadata": {},
   "outputs": [],
   "source": [
    "def celsius_to_fahrenheit(celsius_float):\n",
    "    '''Convert Celsius to Fahrenheit'''\n",
    "    return celsius_float * 1.8 + 32"
   ]
  },
  {
   "cell_type": "code",
   "execution_count": 2,
   "metadata": {},
   "outputs": [
    {
     "data": {
      "text/plain": [
       "<function __main__.celsius_to_fahrenheit(celsius_float)>"
      ]
     },
     "execution_count": 2,
     "metadata": {},
     "output_type": "execute_result"
    }
   ],
   "source": [
    "celsius_to_fahrenheit"
   ]
  },
  {
   "cell_type": "code",
   "execution_count": 3,
   "metadata": {},
   "outputs": [
    {
     "data": {
      "text/plain": [
       "212.0"
      ]
     },
     "execution_count": 3,
     "metadata": {},
     "output_type": "execute_result"
    }
   ],
   "source": [
    "celsius_to_fahrenheit(100)"
   ]
  },
  {
   "cell_type": "markdown",
   "metadata": {},
   "source": [
    "**Flow of Control with Functions**\n",
    "\n",
    "Functions introduce a new ﬂow of control model. Up to this point, a program has essentially been a series of statements and expressions that are executed in the order in which they appear in the ﬁle. Some of the statements introduce local control paths within those statements, such as with selection or repetition, but the ﬂow remains sequential in the ﬁle. With functions, we create a set of small, independent subprograms that can be used to construct a larger program.\n",
    "In short, the ﬂow of control with functions is to ﬂow from the invocation (call) in the calling program, to the function itself, and then back to the calling program with     the function’s return value being made available to the calling program. Control within a function remains sequential: one statement after another along with local control statements such as `if` and `while`.\n",
    "\n",
    "For every program, there is usually one “main” part where execution begins. After that, the ﬂow of control is based on the order of both statements and functions. In particular for functions, operation of a function is determined by when it is invoked, not when it is deﬁned. Functions can be deﬁned anywhere in the program ﬁle, as long as they are deﬁned before they are invoked. Functions must be deﬁned before use because the function name must be placed in the namespace before it can be called.\n",
    "\n",
    "![](figures/function-flow-control.png)"
   ]
  },
  {
   "cell_type": "markdown",
   "metadata": {},
   "source": [
    "> **Rule 8**: A function should do one thing."
   ]
  },
  {
   "cell_type": "markdown",
   "metadata": {},
   "source": [
    "**Exercice**\n",
    "\n",
    "Find a word with a single example of the vowels `a, e, i, o, u` in that order."
   ]
  },
  {
   "cell_type": "code",
   "execution_count": 7,
   "metadata": {},
   "outputs": [
    {
     "name": "stdout",
     "output_type": "stream",
     "text": [
      "Find words containing vowels aeiou in that order:\n",
      "abstemious\n",
      "abstemiously\n",
      "abstentious\n"
     ]
    }
   ],
   "source": [
    "data_file = open('input/dictionary.txt', 'r')\n",
    "\n",
    "def clean_word(word):\n",
    "    '''Return word in lowercase stripped of whitespace.'''\n",
    "    return word.strip().lower()\n",
    "\n",
    "def get_vowels_in_word(word):\n",
    "    '''Return vowels in string word−−include repeats.'''\n",
    "    vowel_str = 'aeiou'\n",
    "    vowels_in_word = ''\n",
    "    \n",
    "    for char in word:\n",
    "        if char in vowel_str:\n",
    "            vowels_in_word += char\n",
    "    return vowels_in_word\n",
    "\n",
    "\n",
    "print('Find words containing vowels aeiou in that order:')\n",
    "\n",
    "for word in data_file:\n",
    "    word = clean_word(word)\n",
    "    if len(word) <= 6:\n",
    "        continue\n",
    "    vowel_str = get_vowels_in_word(word)\n",
    "    if vowel_str == 'aeiou':\n",
    "        print(word)"
   ]
  },
  {
   "cell_type": "markdown",
   "metadata": {},
   "source": [
    "**No `return` Statement**\n",
    "\n",
    "Sometimes we write functions without a return statement. Functions that do not return a value are often called `procedures`.\n",
    "In that case, what, if anything, is returned? The answer is that a special Python value None is returned by default if the programmer does not provide a return statement. None is a kind of odd Python value—a value to represent nothing. Kind of cosmic!\n",
    "\n",
    "There are some good reasons to use a procedure. One that often comes up is specially formatted output. Formatting output to look “pretty” can be laborious and potentially complicated. A print procedure is therefore a good place to do such output. The procedure isolates all the printing format but does not return a value. Other instances might require a change of state to the program, something like turning a graphics mode on or off or changing the network connection to a different mode. Each of these elements is best isolated as a process, but as a function they do not need to return a value."
   ]
  },
  {
   "cell_type": "code",
   "execution_count": 8,
   "metadata": {},
   "outputs": [],
   "source": [
    "def formatted_output(my_str, my_int):\n",
    "    print('The result of the processing for', my_str, 'was', my_int)"
   ]
  },
  {
   "cell_type": "code",
   "execution_count": 9,
   "metadata": {},
   "outputs": [
    {
     "name": "stdout",
     "output_type": "stream",
     "text": [
      "The result of the processing for Bill was 10\n"
     ]
    }
   ],
   "source": [
    "formatted_output('Bill', 10)"
   ]
  },
  {
   "cell_type": "markdown",
   "metadata": {},
   "source": [
    "**Multiple Return Statement**"
   ]
  },
  {
   "cell_type": "code",
   "execution_count": 10,
   "metadata": {},
   "outputs": [],
   "source": [
    "def positive_negative_zero(number):\n",
    "    if number > 0:\n",
    "        return 'positive'\n",
    "    elif number < 0:\n",
    "        return 'negative'\n",
    "    else:\n",
    "        return 'zero'"
   ]
  },
  {
   "cell_type": "code",
   "execution_count": 11,
   "metadata": {},
   "outputs": [
    {
     "data": {
      "text/plain": [
       "'negative'"
      ]
     },
     "execution_count": 11,
     "metadata": {},
     "output_type": "execute_result"
    }
   ],
   "source": [
    "positive_negative_zero(-5)"
   ]
  },
  {
   "cell_type": "code",
   "execution_count": 12,
   "metadata": {},
   "outputs": [
    {
     "data": {
      "text/plain": [
       "'positive'"
      ]
     },
     "execution_count": 12,
     "metadata": {},
     "output_type": "execute_result"
    }
   ],
   "source": [
    "positive_negative_zero(5)"
   ]
  },
  {
   "cell_type": "code",
   "execution_count": 13,
   "metadata": {},
   "outputs": [
    {
     "data": {
      "text/plain": [
       "'zero'"
      ]
     },
     "execution_count": 13,
     "metadata": {},
     "output_type": "execute_result"
    }
   ],
   "source": [
    "positive_negative_zero(0)"
   ]
  },
  {
   "cell_type": "markdown",
   "metadata": {},
   "source": [
    "**Exercice**"
   ]
  },
  {
   "cell_type": "code",
   "execution_count": 14,
   "metadata": {},
   "outputs": [],
   "source": [
    "def Func(number):\n",
    "    '''What does this function do? What does it return for num = 5?'''\n",
    "    total = 0\n",
    "    \n",
    "    while number > 0:\n",
    "        total = total + number*(number-1)\n",
    "        number = number - 1\n",
    "    return total"
   ]
  },
  {
   "cell_type": "code",
   "execution_count": 15,
   "metadata": {},
   "outputs": [],
   "source": [
    "def Func(x):\n",
    "    '''What does this function do? What does it return if x = 5?'''\n",
    "    total = 0 \n",
    "    \n",
    "    for i in range (x): \n",
    "        total += i * (i-1) \n",
    "    return total\n"
   ]
  },
  {
   "cell_type": "code",
   "execution_count": 16,
   "metadata": {},
   "outputs": [],
   "source": [
    "def Func():\n",
    "    '''What does this function do? What number is returned by this function?'''\n",
    "    number = 1.0\n",
    "    total = 0\n",
    "    \n",
    "    while number < 100:\n",
    "        total = 1//number\n",
    "        number+=1\n",
    "    return total"
   ]
  },
  {
   "cell_type": "code",
   "execution_count": null,
   "metadata": {},
   "outputs": [],
   "source": []
  },
  {
   "cell_type": "code",
   "execution_count": null,
   "metadata": {},
   "outputs": [],
   "source": []
  },
  {
   "cell_type": "code",
   "execution_count": null,
   "metadata": {},
   "outputs": [],
   "source": []
  },
  {
   "cell_type": "code",
   "execution_count": null,
   "metadata": {},
   "outputs": [],
   "source": []
  },
  {
   "cell_type": "code",
   "execution_count": null,
   "metadata": {},
   "outputs": [],
   "source": []
  },
  {
   "cell_type": "code",
   "execution_count": null,
   "metadata": {},
   "outputs": [],
   "source": []
  },
  {
   "cell_type": "code",
   "execution_count": null,
   "metadata": {},
   "outputs": [],
   "source": []
  },
  {
   "cell_type": "code",
   "execution_count": null,
   "metadata": {},
   "outputs": [],
   "source": []
  },
  {
   "cell_type": "code",
   "execution_count": null,
   "metadata": {},
   "outputs": [],
   "source": []
  }
 ],
 "metadata": {
  "kernelspec": {
   "display_name": "Python 3",
   "language": "python",
   "name": "python3"
  },
  "language_info": {
   "codemirror_mode": {
    "name": "ipython",
    "version": 3
   },
   "file_extension": ".py",
   "mimetype": "text/x-python",
   "name": "python",
   "nbconvert_exporter": "python",
   "pygments_lexer": "ipython3",
   "version": "3.7.3"
  }
 },
 "nbformat": 4,
 "nbformat_minor": 2
}
