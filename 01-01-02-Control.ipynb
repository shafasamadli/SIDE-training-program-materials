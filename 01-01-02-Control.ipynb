{
 "cells": [
  {
   "cell_type": "markdown",
   "metadata": {},
   "source": [
    "THE ABILITY TO MAKE BILLIONS OF DECISIONS PER SECOND AND MAKE THEM repeatedly is the source of a computer’s power. In this chapter, we introduce control in the form of selection (making decisions) and repetition (performing an operation over and over). These two kinds of control form the basis of all computer programming.\n",
    "![](figures/flow-control.png)"
   ]
  },
  {
   "cell_type": "markdown",
   "metadata": {},
   "source": [
    "Boolean for Decisions.\n",
    "\n",
    "**Boolean** - binary decision value. Boolean type can take only two values: `True` and `False`. Boolean Operators.\n",
    "![](figures/boolean-operators.png)"
   ]
  },
  {
   "cell_type": "markdown",
   "metadata": {},
   "source": [
    "**The `if` Statement**\n",
    "\n",
    "The **if** statement expresses selective execution in Python. It is our ﬁrst control statement, and, simple as it is, it is quite powerful. Selective execution is one of the primary control mechanisms in general programming. It is a critical part of enabling computers to perform complex tasks.\n",
    "\n",
    "\n",
    "The basic **if** statement allows you to do the following:\n",
    "1. Evaluate *boolean_expression*, yielding either `True` or `False`.\n",
    "2. If *boolean_expression* yields `True`:\n",
    "    * Execute the Python suite of code indented under the if, the if suite.\n",
    "    * Once the indented code is executed, continue with any Python code after the indentedcode(thatis,anycodefollowingthe if atthesameindentationasthe if itself).\n",
    "3. If boolean expression yields False,\n",
    "    * Ignore any code indented under the if , (that is, do not execute it).\n",
    "    * Continue with any Python code after the indented code(that is,any code following the if at the same indentation as the if itself).\n",
    "\n",
    "![](figures/control-expression.png)"
   ]
  },
  {
   "cell_type": "code",
   "execution_count": 1,
   "metadata": {},
   "outputs": [
    {
     "name": "stdout",
     "output_type": "stream",
     "text": [
      "0\n"
     ]
    }
   ],
   "source": [
    "my_int = -5\n",
    "if my_int < 0:\n",
    "    my_int = 0\n",
    "print(my_int)"
   ]
  },
  {
   "cell_type": "markdown",
   "metadata": {},
   "source": [
    "**The `if-else` Statement**"
   ]
  },
  {
   "cell_type": "code",
   "execution_count": 3,
   "metadata": {},
   "outputs": [
    {
     "name": "stdout",
     "output_type": "stream",
     "text": [
      "Second value is bigger!\n"
     ]
    }
   ],
   "source": [
    "first_number = 10\n",
    "second_number = 20\n",
    "\n",
    "if first_number > second_number:\n",
    "    print('First value is bigger!')\n",
    "else:\n",
    "    print('Second value is bigger!')"
   ]
  },
  {
   "cell_type": "markdown",
   "metadata": {},
   "source": [
    "**Repetition**\n",
    "\n",
    "The if statement provided selection as a way to make decisions. Next we consider ways to repeat statements. The ability to execute instructions—especially decisions—over and over is the source of considerable power in computing. That is, repeatedly making billions of simple (True/False) decisions per second allows the computer to make complex decisions to complete complex tasks.\n",
    "\n",
    "Python offers two different styles of repetition: `while` and `for`. Here, we introduce the while loop and the for iterator.\n",
    "\n",
    "The `while` statement introduces the concept of repetition. The while statement allows us to repeat a suite of Python code as long as some condition (Boolean expression) is True. When the condition becomes False, repetition ends and control moves on to the code following the repetition. The for statement implements iteration. Iteration is the process of examining all elements of a collection, one at a time, allowing us to perform some operations on each element. One characteristic of Python is that it provides powerful iterators, so one frequently uses for in Python programs.\n",
    "\n",
    "Finally, programmers often refer to any repeating construct as a “loop” because a diagram of the construct looks like a loop."
   ]
  },
  {
   "cell_type": "markdown",
   "metadata": {},
   "source": [
    "**Basic `while`**\n",
    "\n",
    "> While the Boolean expression is True, keep looping—executing the suite.”\n",
    "\n",
    "A while loop works as follows:\n",
    "1.\tThe program enters the `while` construct and evaluates the Boolean expression (condition).\n",
    "2.\tIf the Boolean expression is True, then the associated while suite is executed.\n",
    "3.\tAt the end of the suite, control ﬂows back to the top of the `while`, where the Boolean expression is reevaluated.\n",
    "4.\tIf the Boolean expression yields True, the loop executes again. If the Boolean yields False, then the `while` suite is skipped and the code following the while loop is executed.\n",
    "\n",
    "```python\n",
    "while boolean_expression:\n",
    "    # while suite\n",
    "    pass\n",
    "```"
   ]
  },
  {
   "cell_type": "markdown",
   "metadata": {},
   "source": [
    "![](figures/while-loop.png)"
   ]
  },
  {
   "cell_type": "code",
   "execution_count": 4,
   "metadata": {},
   "outputs": [
    {
     "name": "stdout",
     "output_type": "stream",
     "text": [
      "0 1 2 3 4 5 6 7 8 9 \n",
      "Final value of x_int:  10\n"
     ]
    }
   ],
   "source": [
    "x_int = 0 # initialize loop-control variable\n",
    "\n",
    "while x_int < 10:\n",
    "    print(x_int, end=' ')\n",
    "    x_int += 1\n",
    "\n",
    "print()\n",
    "print('Final value of x_int: ', x_int)"
   ]
  },
  {
   "cell_type": "code",
   "execution_count": null,
   "metadata": {},
   "outputs": [],
   "source": []
  },
  {
   "cell_type": "markdown",
   "metadata": {},
   "source": [
    "**Basic `for`**\n",
    "\n",
    "An iterator is an object associated with all the collection types in Python. A collection in Python is a single object that contains multiple elements that are associated with the collection object. For example, a string is such a collection. It is a single object that has a group of individual characters, each associated with the string. In fact, a string is a particular kind of collection, called a sequence. A sequence is a collection where there is an order associated with the elements. A string is a sequence because the order of the characters is important. A set is a collection that is not a sequence, as membership, not order, is important for a set. However, for both a string and a set—in fact, for any Python collection—an iterator allows us to examine each individual element in that collection, one at a time. Such a collection is called an iterable, a collection that can be examined by a for loop. For a sequence, the iterable’s access is ordered, so that when we iterate through a sequence, we iterate through each element in the sequence in order, from ﬁrst to last. The for loop uses the collection’s associated iterator to give us programmatic access to the individual elements of a collection.\n",
    "\n",
    "The variable   an element is a variable associated with the for loop that is assigned the value of an element in the collection. The variable an element is assigned a different element during each pass of the for loop. Eventually, an element will have been assigned to each element in the collection. The variable collection is a collection that has an associated iterator that acts as the source of elements. The keyword in precedes the collection. Like the if and while statement, the for statement has a header and an associated suite.\n"
   ]
  },
  {
   "cell_type": "markdown",
   "metadata": {},
   "source": [
    "```python\n",
    "for element in collection:\n",
    "    # for suite\n",
    "    pass\n",
    "```"
   ]
  },
  {
   "cell_type": "markdown",
   "metadata": {},
   "source": [
    "![](figures/for-loop.png)"
   ]
  },
  {
   "cell_type": "code",
   "execution_count": 5,
   "metadata": {},
   "outputs": [
    {
     "name": "stdout",
     "output_type": "stream",
     "text": [
      "B\n",
      "a\n",
      "k\n",
      "u\n"
     ]
    }
   ],
   "source": [
    "for ch in 'Baku':\n",
    "    print(ch)"
   ]
  },
  {
   "cell_type": "code",
   "execution_count": null,
   "metadata": {},
   "outputs": [],
   "source": []
  },
  {
   "cell_type": "markdown",
   "metadata": {},
   "source": [
    "### Example : `Finding Perfect Numbers`\n",
    "\n",
    "![](figures/perfect-number.png)"
   ]
  },
  {
   "cell_type": "code",
   "execution_count": 7,
   "metadata": {},
   "outputs": [
    {
     "name": "stdout",
     "output_type": "stream",
     "text": [
      "Please enter a number to check:496\n",
      "496 is perfect\n"
     ]
    }
   ],
   "source": [
    "# get a number to check\n",
    "number_str = input('Please enter a number to check:')\n",
    "number = int(number_str)\n",
    "\n",
    "# find and sum up the divisors\n",
    "divisor = 1\n",
    "sum_of_divisors = 0\n",
    "\n",
    "while divisor < number:\n",
    "    if number % divisor == 0:\n",
    "        sum_of_divisors += divisor\n",
    "    divisor += 1\n",
    "    \n",
    "# classify the result\n",
    "if number == sum_of_divisors:\n",
    "    print(number, 'is perfect')\n",
    "else:\n",
    "    print(number, 'is not perfect')"
   ]
  },
  {
   "cell_type": "code",
   "execution_count": null,
   "metadata": {},
   "outputs": [],
   "source": []
  },
  {
   "cell_type": "markdown",
   "metadata": {},
   "source": [
    "> Am `empty` object (0 for int, 0.0 for float, '' for string) is considered to be *False*; all `non-empty` objects are considered to be *True*"
   ]
  },
  {
   "cell_type": "code",
   "execution_count": 8,
   "metadata": {},
   "outputs": [
    {
     "data": {
      "text/plain": [
       "True"
      ]
     },
     "execution_count": 8,
     "metadata": {},
     "output_type": "execute_result"
    }
   ],
   "source": [
    "3 > 2"
   ]
  },
  {
   "cell_type": "code",
   "execution_count": 9,
   "metadata": {},
   "outputs": [
    {
     "data": {
      "text/plain": [
       "False"
      ]
     },
     "execution_count": 9,
     "metadata": {},
     "output_type": "execute_result"
    }
   ],
   "source": [
    "5 + 3 < 3 - 2 # expressions  evaluated first then comparison"
   ]
  },
  {
   "cell_type": "code",
   "execution_count": 10,
   "metadata": {},
   "outputs": [
    {
     "data": {
      "text/plain": [
       "False"
      ]
     },
     "execution_count": 10,
     "metadata": {},
     "output_type": "execute_result"
    }
   ],
   "source": [
    "5 == 6 # equality test"
   ]
  },
  {
   "cell_type": "code",
   "execution_count": 11,
   "metadata": {},
   "outputs": [
    {
     "ename": "TypeError",
     "evalue": "'<' not supported between instances of 'str' and 'int'",
     "output_type": "error",
     "traceback": [
      "\u001b[1;31m---------------------------------------------------------------------------\u001b[0m",
      "\u001b[1;31mTypeError\u001b[0m                                 Traceback (most recent call last)",
      "\u001b[1;32m<ipython-input-11-398a7901a9cd>\u001b[0m in \u001b[0;36m<module>\u001b[1;34m\u001b[0m\n\u001b[1;32m----> 1\u001b[1;33m \u001b[1;34m'1'\u001b[0m \u001b[1;33m<\u001b[0m \u001b[1;36m2\u001b[0m \u001b[1;31m# weird mixture of string and int: illegal!\u001b[0m\u001b[1;33m\u001b[0m\u001b[1;33m\u001b[0m\u001b[0m\n\u001b[0m",
      "\u001b[1;31mTypeError\u001b[0m: '<' not supported between instances of 'str' and 'int'"
     ]
    }
   ],
   "source": [
    "'1' < 2 # weird mixture of string and int: illegal!"
   ]
  },
  {
   "cell_type": "markdown",
   "metadata": {},
   "source": [
    "**What Does it Mean to be Equal?**\n",
    "\n",
    "Equality presents a special problem on a computer, especially in Python. There are really two different kinds of equality:\n",
    "* Two different names are associated with objects that have the same value.\n",
    "* Two different names are associated with the same object (i.e., objects with the same ID).\n",
    "\n",
    "![](figures/equality.png)"
   ]
  },
  {
   "cell_type": "markdown",
   "metadata": {},
   "source": [
    "> `==` to check whether two names refer to objects that have the same value.\n",
    "\n",
    "> `is` to check whether two names refer to the *same object* (have the same ID)"
   ]
  },
  {
   "cell_type": "code",
   "execution_count": 13,
   "metadata": {},
   "outputs": [
    {
     "data": {
      "text/plain": [
       "True"
      ]
     },
     "execution_count": 13,
     "metadata": {},
     "output_type": "execute_result"
    }
   ],
   "source": [
    "a_float = 2.5\n",
    "b_float = 2.5\n",
    "c_float = b_float\n",
    "\n",
    "a_float == b_float # values are the same"
   ]
  },
  {
   "cell_type": "code",
   "execution_count": 16,
   "metadata": {},
   "outputs": [
    {
     "data": {
      "text/plain": [
       "False"
      ]
     },
     "execution_count": 16,
     "metadata": {},
     "output_type": "execute_result"
    }
   ],
   "source": [
    "a_float is b_float # objects are different"
   ]
  },
  {
   "cell_type": "code",
   "execution_count": 17,
   "metadata": {},
   "outputs": [
    {
     "data": {
      "text/plain": [
       "True"
      ]
     },
     "execution_count": 17,
     "metadata": {},
     "output_type": "execute_result"
    }
   ],
   "source": [
    "c_float is b_float # objects are the same (so values are too)"
   ]
  },
  {
   "cell_type": "code",
   "execution_count": 18,
   "metadata": {},
   "outputs": [
    {
     "name": "stdout",
     "output_type": "stream",
     "text": [
      "3123885548072\n",
      "3123885547832\n",
      "3123885547832\n"
     ]
    }
   ],
   "source": [
    "print(id(a_float))\n",
    "print(id(b_float))\n",
    "print(id(c_float))"
   ]
  },
  {
   "cell_type": "markdown",
   "metadata": {},
   "source": [
    "When you assign the same object to different variables using separate assignments, you create separate objects that happen to have the same value. Therefore, the equality check `==` returns True , but the sharing check (is) returns `False`. However, when you assign two variables to the same object, then both `==` and `is` return True "
   ]
  },
  {
   "cell_type": "markdown",
   "metadata": {},
   "source": [
    "While we are on the subject of equality, let’s discuss equality of ﬂoating-point values. Remember that ﬂoating points are approximations of real numbers because of the problem of representing inﬁnitely divisible real values in a ﬁnite number of bits in computer memory. If one executes a series of computations, especially with ﬂoating-point values, some round-off error is likely to occur. "
   ]
  },
  {
   "cell_type": "code",
   "execution_count": 20,
   "metadata": {},
   "outputs": [
    {
     "data": {
      "text/plain": [
       "9.51111111"
      ]
     },
     "execution_count": 20,
     "metadata": {},
     "output_type": "execute_result"
    }
   ],
   "source": [
    "u = 11111113\n",
    "v = -11111111\n",
    "w = 7.51111111\n",
    "\n",
    "(u + v) + w"
   ]
  },
  {
   "cell_type": "code",
   "execution_count": 21,
   "metadata": {},
   "outputs": [
    {
     "data": {
      "text/plain": [
       "9.511111110448837"
      ]
     },
     "execution_count": 21,
     "metadata": {},
     "output_type": "execute_result"
    }
   ],
   "source": [
    "u + (v + w)"
   ]
  },
  {
   "cell_type": "code",
   "execution_count": 22,
   "metadata": {},
   "outputs": [
    {
     "data": {
      "text/plain": [
       "False"
      ]
     },
     "execution_count": 22,
     "metadata": {},
     "output_type": "execute_result"
    }
   ],
   "source": [
    "(u + v) + w == u + (v + w) "
   ]
  },
  {
   "cell_type": "code",
   "execution_count": 23,
   "metadata": {},
   "outputs": [
    {
     "name": "stdout",
     "output_type": "stream",
     "text": [
      "False\n",
      "True\n"
     ]
    }
   ],
   "source": [
    "x = (u + v) + w\n",
    "y = u + (v + w)\n",
    "\n",
    "print(x == y)\n",
    "print(abs(x - y) < 0.0000001) # abs is absolute value "
   ]
  },
  {
   "cell_type": "markdown",
   "metadata": {},
   "source": [
    "In the case of `x == y`, we are checking to see if x and y have identical values. In the case of `abs(x - y) < 0.0000001`, we are checking to see if x and y are “close enough.” We use absolute value (abs) because if the difference `x - y` happens to be negative (as it is in this case), the expression will always be `True` even if the values are not close. When comparing for ﬂoating-point equality, the latter is the correct way to do it. The former will often result in incorrect results with ﬂoating-point values."
   ]
  },
  {
   "cell_type": "markdown",
   "metadata": {},
   "source": [
    "**Boolean Operators**\n",
    "\n",
    "![](figures/boolean-operators-detail.png)"
   ]
  },
  {
   "cell_type": "markdown",
   "metadata": {},
   "source": [
    "![](figures/precedence-boolean.png)"
   ]
  },
  {
   "cell_type": "markdown",
   "metadata": {},
   "source": [
    "**The `if-elif-else`Statement**\n",
    "\n",
    "```python\n",
    "if boolean expression1:\n",
    "    # suite1\n",
    "    pass\n",
    "elif boolean expression2:\n",
    "    # suite2\n",
    "    pass\n",
    "elif boolean expression3:\n",
    "    # suite3\n",
    "    # as many elif statements as you like\n",
    "    pass\n",
    "else :\n",
    "    # suite last\n",
    "    pass\n",
    "```"
   ]
  },
  {
   "cell_type": "code",
   "execution_count": 26,
   "metadata": {},
   "outputs": [
    {
     "name": "stdout",
     "output_type": "stream",
     "text": [
      " What is your percentage? 1212\n",
      " oops, not good \n"
     ]
    }
   ],
   "source": [
    "# determine a letter grade from a percentage input # by the user\n",
    "percent_float = float (input(\" What is your percentage? \"))\n",
    "\n",
    "if 90 <= percent_float < 100:\n",
    "    print(\" you received an A \")\n",
    "elif 80 <= percent_float < 90:\n",
    "    print(\" you received a B \")\n",
    "elif 70 <= percent_float < 80:\n",
    "    print(\" you received a C \")\n",
    "elif 60 <= percent_float < 70:\n",
    "    print(\" you received a D \")\n",
    "else:\n",
    "    print(\" oops, not good \")"
   ]
  },
  {
   "cell_type": "markdown",
   "metadata": {},
   "source": [
    "**`break` Statement and Non-Normal Exit**\n",
    "\n",
    "The `else` clause is often used in conjunction with the `break` statement. The `break` statement can be used to *immediately* exit the execution of the current loop and skip past all the remaining parts of the loop suite. It is important to note that “skip past” means to skip the `else` suite (if it exists) as well. Remember, the `else` is only entered if the loop condition becomes `False`. The `break` statement is useful for stopping computation when the “answer” has been found or when continuing the computation is otherwise useless."
   ]
  },
  {
   "cell_type": "markdown",
   "metadata": {},
   "source": [
    "![](figures/while-else.png)"
   ]
  },
  {
   "cell_type": "markdown",
   "metadata": {},
   "source": [
    "**“hi-low” number guessing game**. The program starts by generating a random number hidden from the user that is between 0 and 100. The user then attempts to guess the number, getting hints as to which direction (bigger or smaller, higher or lower) to go on the next guess. The game can end in one of two ways:\n",
    "\n",
    "* The user can correctly guess the number.\n",
    "* The user can quit playing by entering a number out of the range of 0–100.\n",
    "\n",
    "\n",
    "Here is an algorithm for the game:\n",
    "```python\n",
    "Choose a random number.\n",
    "Prompt for a guess. \n",
    "`while` guess is in range:\n",
    "    Check whether the guess is correct;\n",
    "        If it is a win, print a win message and exit.\n",
    "        Otherwise, provide a hint and prompt for a new guess.\n",
    "```"
   ]
  },
  {
   "cell_type": "code",
   "execution_count": 29,
   "metadata": {},
   "outputs": [
    {
     "name": "stdout",
     "output_type": "stream",
     "text": [
      "Hi-Lo Number Guessing Game: between 0 and 100 inclusive.\n",
      "\n",
      "Guess a number: 56\n",
      "Guessed Too High.\n",
      "Guess a number: 363\n",
      "You quir early, the number was:  11\n"
     ]
    }
   ],
   "source": [
    "import random\n",
    "number = random.randint(0, 100) # get a random number between 0 and 100\n",
    "\n",
    "print('Hi-Lo Number Guessing Game: between 0 and 100 inclusive.\\n')\n",
    "\n",
    "guess_str = input('Guess a number: ')\n",
    "guess = int(guess_str) # convert string to number\n",
    "\n",
    "# while guess is range, keep asking\n",
    "while 0 <= guess <= 100:\n",
    "    if guess > number:\n",
    "        print('Guessed Too High.')\n",
    "    elif guess < number:\n",
    "        print('Guessed Too Low.')\n",
    "    else: # correct guessm, exit with break\n",
    "        print('You guessed it. The number was: ', number)\n",
    "        break\n",
    "        \n",
    "    # keep going, get the next guess\n",
    "    guess_str = input('Guess a number: ')\n",
    "    guess = int(guess_str)\n",
    "else:\n",
    "    print('You quir early, the number was: ', number)"
   ]
  },
  {
   "cell_type": "markdown",
   "metadata": {},
   "source": [
    "**More Control Inside of a *while* Loop `continue`**\n",
    "\n",
    "Sometimes we might want to simply skip some portion of the `while` suite we are executing and have control ﬂow back to the beginning of the `while` loop. That is, exit early from this iteration of the loop (not the loop itself ), and keep executing the while loop. In this way, the `continue` statement is less drastic than the `break`. Similar to the `break`, it can make the ﬂow of control harder to follow, but there are times when it yields the more readable code. "
   ]
  },
  {
   "cell_type": "markdown",
   "metadata": {},
   "source": [
    "The basic algorithm will be:\n",
    "\n",
    "* Prompt the user for a number.\n",
    "* Convert the input string to an int.\n",
    "* If the input is even, add it to the running sum.\n",
    "* If the input is not even (odd), print an error message—don’t add it into the sum, just continue on.\n",
    "* If the input is the special character “.”, end and print the ﬁnal sum. "
   ]
  },
  {
   "cell_type": "code",
   "execution_count": 32,
   "metadata": {},
   "outputs": [
    {
     "name": "stdout",
     "output_type": "stream",
     "text": [
      "Allow the user to enter a series of even integers. Sum them. \n",
      "Ignore non-even input. End input with a ' . '\n",
      "Number: 25\n",
      "Error, only even numbers, please!\n",
      "Number: 22\n",
      "Number: 23\n",
      "Error, only even numbers, please!\n",
      "Number: 25\n",
      "Error, only even numbers, please!\n",
      "Number: 22\n",
      "Number: 20\n",
      "Number: 2\n",
      "Number: .\n",
      "The sum is: 66\n"
     ]
    }
   ],
   "source": [
    "print (\"Allow the user to enter a series of even integers. Sum them. \")\n",
    "print (\"Ignore non-even input. End input with a '.'\")\n",
    "\n",
    "# initialize the input number and the sum\n",
    "number_str = input('Number: ')\n",
    "the_sum = 0\n",
    "\n",
    "# stop if a period is entered\n",
    "while number_str != '.':\n",
    "    number = int(number_str)\n",
    "    if number % 2 == 1: # number is not even\n",
    "        print('Error, only even numbers, please!')\n",
    "        number_str = input('Number: ')\n",
    "        continue # if the number is not even, ignore it\n",
    "    the_sum += number\n",
    "    number_str = input('Number: ')\n",
    "print('The sum is:', the_sum)"
   ]
  },
  {
   "cell_type": "markdown",
   "metadata": {},
   "source": [
    "Another solution without `continue`."
   ]
  },
  {
   "cell_type": "code",
   "execution_count": 33,
   "metadata": {},
   "outputs": [
    {
     "name": "stdout",
     "output_type": "stream",
     "text": [
      "Allow the user to enter a series of even integers. Sum them. \n",
      "Ignore non-even input. End input with a '.'\n",
      "Number: 22\n",
      "Number: 20\n",
      "Number: 2\n",
      "Number: .\n",
      "The sum is: 44\n"
     ]
    }
   ],
   "source": [
    "print (\"Allow the user to enter a series of even integers. Sum them. \")\n",
    "print (\"Ignore non-even input. End input with a '.'\")\n",
    "\n",
    "# initialize the input number and the sum\n",
    "number_str = input('Number: ')\n",
    "the_sum = 0\n",
    "\n",
    "# stop if a period is entered\n",
    "while number_str != '.':\n",
    "    number = int(number_str)\n",
    "    if number % 2 == 1: # number is not even\n",
    "        print('Error, only even numbers, please!')\n",
    "    else:\n",
    "        the_sum += number\n",
    "    number_str = input('Number: ')\n",
    "print('The sum is:', the_sum)"
   ]
  },
  {
   "cell_type": "markdown",
   "metadata": {},
   "source": [
    "**The `pass` Statement**\n",
    "\n",
    "The pass statement does nothing. It can be used when a statement is required syntactically but the program requires no action.\n",
    "\n",
    "```python\n",
    "for i in range(10):\n",
    "    pass # do nothing\n",
    "```"
   ]
  },
  {
   "cell_type": "markdown",
   "metadata": {},
   "source": [
    "**Using `range` to Generate a Number Sequence**"
   ]
  },
  {
   "cell_type": "code",
   "execution_count": 35,
   "metadata": {},
   "outputs": [
    {
     "name": "stdout",
     "output_type": "stream",
     "text": [
      "0 1 2 3 4 "
     ]
    }
   ],
   "source": [
    "for i in range(5):\n",
    "    print(i, end=' ')"
   ]
  },
  {
   "cell_type": "code",
   "execution_count": 36,
   "metadata": {},
   "outputs": [
    {
     "name": "stdout",
     "output_type": "stream",
     "text": [
      "3 4 5 6 7 8 9 "
     ]
    }
   ],
   "source": [
    "for i in range(3, 10):\n",
    "    print(i, end=' ')"
   ]
  },
  {
   "cell_type": "code",
   "execution_count": 37,
   "metadata": {},
   "outputs": [
    {
     "name": "stdout",
     "output_type": "stream",
     "text": [
      "1 3 5 7 9 11 13 15 17 19 "
     ]
    }
   ],
   "source": [
    "for i in range(1, 20, 2): # print odd numbers\n",
    "    print(i, end=' ')"
   ]
  },
  {
   "cell_type": "code",
   "execution_count": 40,
   "metadata": {},
   "outputs": [
    {
     "name": "stdout",
     "output_type": "stream",
     "text": [
      "Sum is: 5050\n"
     ]
    }
   ],
   "source": [
    "# find the sum of the numbers from 1 to 100\n",
    "\n",
    "the_sum = 0\n",
    "\n",
    "for i in range(1, 101):\n",
    "    the_sum += i\n",
    "print('Sum is:', the_sum)"
   ]
  },
  {
   "cell_type": "code",
   "execution_count": null,
   "metadata": {},
   "outputs": [],
   "source": []
  },
  {
   "cell_type": "markdown",
   "metadata": {},
   "source": [
    "**`Hailstone Sequence`**\n",
    "\n",
    "* If the number is even, divide it by 2.\n",
    "* If the number is odd, multiply by 3 and add 1.\n",
    "* When the number reaches 1, quit."
   ]
  },
  {
   "cell_type": "code",
   "execution_count": 41,
   "metadata": {},
   "outputs": [
    {
     "name": "stdout",
     "output_type": "stream",
     "text": [
      "Enter a positive integer:12\n",
      "Starting with number: 12\n",
      "Sequence is: 6.0 , 3.0 , 10.0 , 5.0 , 16.0 , 8.0 , 4.0 , 2.0 , 1.0 , \n",
      "Sequence is  9 numbers long.\n"
     ]
    }
   ],
   "source": [
    "number = int(input('Enter a positive integer:'))\n",
    "count = 0\n",
    "\n",
    "print('Starting with number:', number)\n",
    "print('Sequence is:', end=' ')\n",
    "\n",
    "while number > 1: # stop when the sequence reaches 1\n",
    "    \n",
    "    if number % 2: # number is odd\n",
    "        number = number * 3 + 1\n",
    "    else: # bumber is even\n",
    "        number /= 2\n",
    "    print(number, ',', end=' ') # add number to sequence\n",
    "    count += 1\n",
    "else:\n",
    "    print()\n",
    "    print('Sequence is ', count, 'numbers long.')"
   ]
  },
  {
   "cell_type": "markdown",
   "metadata": {},
   "source": [
    "# Exercice"
   ]
  },
  {
   "cell_type": "markdown",
   "metadata": {},
   "source": [
    "1) Write a program to generate the following arithmetic examples.\n",
    "\n",
    "**Hints**:\n",
    "* Divide and conquer: what simpler problem do you need to solve?\n",
    "* Consider using strings to build numbers and then convert.\n",
    "* The range iterator may be helpful.\n",
    "\n",
    "```python\n",
    "1*8+1=9\n",
    "12 * 8 + 2 = 98\n",
    "123 * 8 + 3 = 987 \n",
    "1234 * 8 + 4 = 9876 \n",
    "12345 * 8 + 5 = 98765 \n",
    "123456 * 8 + 6 = 987654 \n",
    "1234567 * 8 + 7 = 9876543 \n",
    "12345678 * 8 + 8 = 98765432 \n",
    "123456789 * 8 + 9 = 987654321\n",
    "\n",
    "9 * 9 + 7 = 88 \n",
    "98 * 9 + 6 = 888 \n",
    "987 * 9 + 5 = 8888 \n",
    "9876 * 9 + 4 = 88888 \n",
    "98765 * 9 + 3 = 888888 \n",
    "987654 * 9 + 2 = 8888888 \n",
    "9876543 * 9 + 1 = 88888888 \n",
    "98765432 * 9 + 0 = 888888888\n",
    "\n",
    "\n",
    "1*1=1 \n",
    "11 * 11 = 121 \n",
    "111 * 111 = 12321 \n",
    "1111 * 1111 = 1234321 \n",
    "11111 * 11111 = 123454321 \n",
    "111111 * 111111 = 12345654321 \n",
    "1111111 * 1111111 = 1234567654321 \n",
    "11111111 * 11111111 = 123456787654321 \n",
    "111111111 * 111111111 = 12345678987654321\n",
    "```"
   ]
  },
  {
   "cell_type": "markdown",
   "metadata": {},
   "source": [
    "2) Write a program that checks to see if a number N is prime. A simple approach checks all numbers from 2 up to N, but after some point numbers are checked that need not be checked. For example, numbers greater than `√N` need not be checked. Write a program that checks for primality and avoids those unnecessary checks. Remember to import the math module. "
   ]
  },
  {
   "cell_type": "markdown",
   "metadata": {},
   "source": [
    "3) Create a program that prompts for a positive number greater than 2 (check this condition) and then keeps taking the square root of this number until the square root is less than 2. Print the value each time the square root is taken, along with the number of times the operation has been completed. For example:\n",
    "\n",
    "```python\n",
    "Enter an integer greater than 2: 20\n",
    "1: 4.472 \n",
    "2: 2.115 \n",
    "3: 1.454 \n",
    "```\n"
   ]
  },
  {
   "cell_type": "code",
   "execution_count": null,
   "metadata": {},
   "outputs": [],
   "source": []
  },
  {
   "cell_type": "code",
   "execution_count": null,
   "metadata": {},
   "outputs": [],
   "source": []
  },
  {
   "cell_type": "code",
   "execution_count": null,
   "metadata": {},
   "outputs": [],
   "source": []
  },
  {
   "cell_type": "code",
   "execution_count": null,
   "metadata": {},
   "outputs": [],
   "source": []
  },
  {
   "cell_type": "code",
   "execution_count": null,
   "metadata": {},
   "outputs": [],
   "source": []
  },
  {
   "cell_type": "code",
   "execution_count": null,
   "metadata": {},
   "outputs": [],
   "source": []
  }
 ],
 "metadata": {
  "kernelspec": {
   "display_name": "Python 3",
   "language": "python",
   "name": "python3"
  },
  "language_info": {
   "codemirror_mode": {
    "name": "ipython",
    "version": 3
   },
   "file_extension": ".py",
   "mimetype": "text/x-python",
   "name": "python",
   "nbconvert_exporter": "python",
   "pygments_lexer": "ipython3",
   "version": "3.7.3"
  }
 },
 "nbformat": 4,
 "nbformat_minor": 2
}
