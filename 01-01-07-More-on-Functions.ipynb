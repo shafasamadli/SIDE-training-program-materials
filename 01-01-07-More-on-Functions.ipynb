{
 "cells": [
  {
   "cell_type": "markdown",
   "metadata": {},
   "source": [
    "**Scope: A First Cut**\n",
    "\n",
    "We bring up scope here because a function is the ﬁrst place where we can easily see the effect of different scopes. As we noted earlier, when a function is executed, it creates its own namespace. Any variable that comes into existence (e.g., when a variable gets assigned a value) within the suite of that function gets entered in the function’s namespace. We say that a function’s variables are local to the scope of the function. Local scope means that the variable can only be referenced, its associated object accessed, within the suite of the function, because that is the active namespace. Variables  deﬁned locally within a function (within the scope of the function) are not accessible outside of the function, because when a call to a function ends, its namespace is hidden.\n",
    "\n",
    "Every program and function has a namespace that deﬁnes a scope within which variables are deﬁned and are available for use. Only variables within the current, active namespaces (note the plural), can be referred to during execution. "
   ]
  },
  {
   "cell_type": "code",
   "execution_count": 3,
   "metadata": {},
   "outputs": [
    {
     "name": "stdout",
     "output_type": "stream",
     "text": [
      "new_int value (in function) is: 27\n"
     ]
    },
    {
     "ename": "NameError",
     "evalue": "name 'new_int' is not defined",
     "output_type": "error",
     "traceback": [
      "\u001b[1;31m---------------------------------------------------------------------------\u001b[0m",
      "\u001b[1;31mNameError\u001b[0m                                 Traceback (most recent call last)",
      "\u001b[1;32m<ipython-input-3-0900bd0754ca>\u001b[0m in \u001b[0;36m<module>\u001b[1;34m\u001b[0m\n\u001b[0;32m      6\u001b[0m \u001b[1;31m# main program\u001b[0m\u001b[1;33m\u001b[0m\u001b[1;33m\u001b[0m\u001b[1;33m\u001b[0m\u001b[0m\n\u001b[0;32m      7\u001b[0m \u001b[0mscope_function\u001b[0m\u001b[1;33m(\u001b[0m\u001b[1;36m27\u001b[0m\u001b[1;33m)\u001b[0m\u001b[1;33m\u001b[0m\u001b[1;33m\u001b[0m\u001b[0m\n\u001b[1;32m----> 8\u001b[1;33m \u001b[0mprint\u001b[0m\u001b[1;33m(\u001b[0m\u001b[1;34m'new_int value is:'\u001b[0m\u001b[1;33m,\u001b[0m \u001b[0mnew_int\u001b[0m\u001b[1;33m)\u001b[0m \u001b[1;31m# ERROR! (scope)\u001b[0m\u001b[1;33m\u001b[0m\u001b[1;33m\u001b[0m\u001b[0m\n\u001b[0m",
      "\u001b[1;31mNameError\u001b[0m: name 'new_int' is not defined"
     ]
    }
   ],
   "source": [
    "# a function with a local variable\n",
    "def scope_function(a_int):\n",
    "    new_int = a_int # local variable created\n",
    "    print('new_int value (in function) is:', new_int)\n",
    "    \n",
    "# main program\n",
    "scope_function(27)\n",
    "print('new_int value is:', new_int) # ERROR! (scope)"
   ]
  },
  {
   "cell_type": "markdown",
   "metadata": {},
   "source": [
    "This program generates an error, because `new_int` is deﬁned in the local scope of scope function so it cannot be referenced outside of the suite of the function.\n",
    "\n",
    "The scope determined by `scope_function` is the function’s suite (indented under the `def` statement). Besides the suite, the namespace also includes the function’s parameters as part of the function’s local scope. The function’s namespace becomes active when function execution begins and ends when function execution ends. The function’s namespace doesn’t exist outside of the function’s execution of the suite, so the request in the main program for the object associated with `new_int` cannot be found. Literally, the variable does not exist, as the namespace that deﬁnes it is not presently active."
   ]
  },
  {
   "cell_type": "markdown",
   "metadata": {},
   "source": [
    "**Arguments, Parameters and Namespaces**\n",
    "\n",
    "Before we begin, remember that a namespace contains a set of pairs: a name and a Python object associated with that name. The association is called a reference, and we can say that the name `references` the object. Also, from the scope discussion earlier, remember that the main program and function each have their own separate namespaces.\n",
    "\n",
    "Here’s the big question: when we call a function, what gets copied between the argument and its corresponding parameter? The answer is that the association, the reference, is what gets copied and not a new copy of the object itself. That is worth saying again. The association (reference) is copied, not the object itself. This means that, after passing the argument to the parameter, both the parameter and argument will now be associated with the same object.\n",
    "\n",
    "![](figures/function-namespace.png)"
   ]
  },
  {
   "cell_type": "code",
   "execution_count": 6,
   "metadata": {},
   "outputs": [
    {
     "name": "stdout",
     "output_type": "stream",
     "text": [
      "140713339754048\n",
      "parameter value is:25, its id is:140713339754048\n"
     ]
    }
   ],
   "source": [
    "def my_function(param):\n",
    "    print('parameter value is:{}, its id is:{}'.format(param, id(param))) # print value and id\n",
    "    \n",
    "arg=25\n",
    "print(id(arg)) # id of int object\n",
    "\n",
    "my_function(arg) # arg and param objects the same"
   ]
  },
  {
   "cell_type": "markdown",
   "metadata": {},
   "source": [
    "**Passing Mutable Objects**\n",
    "\n",
    "In the previous example, the argument and parameter of the function make reference to an immutable object. If the object being referenced is immutable, such as a number, string, or tuple, it is not possible to change anything about that object. Whenever we assign a new object to a parameter, we break the association of both argument and parameter to the same object."
   ]
  },
  {
   "cell_type": "code",
   "execution_count": 7,
   "metadata": {},
   "outputs": [
    {
     "name": "stdout",
     "output_type": "stream",
     "text": [
      "param_list before modification: [1, 2, 3]\n",
      "param_list after modification: [100, 2, 3]\n"
     ]
    }
   ],
   "source": [
    "def my_function(param_list):\n",
    "    print('param_list before modification:', param_list)\n",
    "    param_list[0] = 100\n",
    "    print('param_list after modification:', param_list)\n",
    "    \n",
    "arg_list = [1, 2, 3]\n",
    "my_function(arg_list)"
   ]
  },
  {
   "cell_type": "markdown",
   "metadata": {},
   "source": [
    "> Passing mutable objects allows a function to change values in the calling program."
   ]
  },
  {
   "cell_type": "markdown",
   "metadata": {},
   "source": [
    "**Returning a Complex Object**\n",
    "\n",
    "If you return a series of results separated by commas, Python will build a single tuple containing those values (in order) and return the tuple."
   ]
  },
  {
   "cell_type": "code",
   "execution_count": 8,
   "metadata": {},
   "outputs": [],
   "source": [
    "def evens(n):\n",
    "    evens_list = [] # initialize list to empty\n",
    "    \n",
    "    for i in range(1, n+1):\n",
    "        evens_list.append(2 * i)\n",
    "    return evens_list"
   ]
  },
  {
   "cell_type": "code",
   "execution_count": 9,
   "metadata": {},
   "outputs": [
    {
     "data": {
      "text/plain": [
       "[2, 4, 6, 8, 10]"
      ]
     },
     "execution_count": 9,
     "metadata": {},
     "output_type": "execute_result"
    }
   ],
   "source": [
    "evens(5)"
   ]
  },
  {
   "cell_type": "code",
   "execution_count": 10,
   "metadata": {},
   "outputs": [
    {
     "data": {
      "text/plain": [
       "[2, 4, 6]"
      ]
     },
     "execution_count": 10,
     "metadata": {},
     "output_type": "execute_result"
    }
   ],
   "source": [
    "num_list = evens(3)\n",
    "num_list"
   ]
  },
  {
   "cell_type": "code",
   "execution_count": 11,
   "metadata": {},
   "outputs": [],
   "source": [
    "def mirror(pair):\n",
    "    '''reverse first two elements'''\n",
    "    return pair[1], pair[0]"
   ]
  },
  {
   "cell_type": "code",
   "execution_count": 13,
   "metadata": {},
   "outputs": [
    {
     "data": {
      "text/plain": [
       "(3, 2)"
      ]
     },
     "execution_count": 13,
     "metadata": {},
     "output_type": "execute_result"
    }
   ],
   "source": [
    "mirror((2,3))"
   ]
  },
  {
   "cell_type": "code",
   "execution_count": 14,
   "metadata": {},
   "outputs": [
    {
     "name": "stdout",
     "output_type": "stream",
     "text": [
      "3\n",
      "2\n"
     ]
    }
   ],
   "source": [
    "first, second = mirror((2, 3))\n",
    "\n",
    "print(first)\n",
    "print(second)"
   ]
  },
  {
   "cell_type": "markdown",
   "metadata": {},
   "source": [
    "**Refactoring**\n",
    "\n",
    "```python\n",
    "return [2*i for i in range(1, n+1)]\n",
    "```"
   ]
  },
  {
   "cell_type": "markdown",
   "metadata": {},
   "source": [
    "**Default values and Parameters**\n",
    "\n",
    "Two additional characteristics of parameter passing we will now examine are the ability to have `default values` and the ability to pass `parameters` by name.\n",
    "\n",
    "A default parameter value is pretty much just that: a value assigned to a function parameter by default in the event that the user did not provide a value. We have seen defaults before—for example, in slicing; there is a default for each of the three values in a slice if the user does not provide one. However, when the user does provide a value, that provided value always overrides the default value.\n",
    "\n",
    "A default parameter is created in the parameter list of a function deﬁnition. A default parameter looks like an assignment statement in the parameter list, something like `param_name = value`. The value on the right-handside of the assignment is the default value for parameter `param_name`. The user of the function is free not to provide a value for that parameter, and the default will be used. If a parameter is listed without the assignment, it is a required parameter. The user must provide an argument for the parameter or Python will signal an error.\n",
    "\n",
    "Arguments are mapped to parameters as before in a left-to-right positional matching. That is, the leftmost argument maps to the leftmost parameter, then the next leftmost argument is mapped to the next leftmost parameter, and so on. If there are more parameters then arguments, any unmatched parameters get their default values. Therefore, default values can only be used on the rightmost parameters.\n",
    "\n",
    "Consider an example function func1, shown as follows, where the rightmost parameter, `param_default`, is assigned a default value. When the function is called with two arguments, the arguments are matched to parameters, from left to right as before, and the default value is ignored. However, when only one argument is used, `func1(5)`, the 5 is mapped to the leftmost parameter, `param_required`, and as there is no second argument, the parameter `param_default` gets its default value of 2.\n",
    "\n",
    "Use of parameter names as keywords in a function invocation is particularly useful when there are many parameters and many have default values. The programmer can then easily specify a few desired arguments he or she wishes to change, without regard to order, and accept the default values for the rest."
   ]
  },
  {
   "cell_type": "code",
   "execution_count": 17,
   "metadata": {},
   "outputs": [
    {
     "name": "stdout",
     "output_type": "stream",
     "text": [
      "5 6\n"
     ]
    }
   ],
   "source": [
    "def func1(param_required, param_default=2):\n",
    "    print(param_required, param_default)"
   ]
  },
  {
   "cell_type": "code",
   "execution_count": 20,
   "metadata": {},
   "outputs": [
    {
     "name": "stdout",
     "output_type": "stream",
     "text": [
      "5 6\n"
     ]
    }
   ],
   "source": [
    "func1(5, 6) # both specified so default is ignored"
   ]
  },
  {
   "cell_type": "code",
   "execution_count": 18,
   "metadata": {},
   "outputs": [
    {
     "name": "stdout",
     "output_type": "stream",
     "text": [
      "4 2\n"
     ]
    }
   ],
   "source": [
    "func1(4) # only param_required, default used for param_default"
   ]
  },
  {
   "cell_type": "code",
   "execution_count": 21,
   "metadata": {},
   "outputs": [
    {
     "name": "stdout",
     "output_type": "stream",
     "text": [
      "78 4\n"
     ]
    }
   ],
   "source": [
    "func1(param_default=4, param_required=78)"
   ]
  },
  {
   "cell_type": "markdown",
   "metadata": {},
   "source": [
    "Issues with Default Values"
   ]
  },
  {
   "cell_type": "code",
   "execution_count": 23,
   "metadata": {},
   "outputs": [],
   "source": [
    "def func2(element, param_list=[]):\n",
    "    param_list.append(element)\n",
    "    return param_list"
   ]
  },
  {
   "cell_type": "code",
   "execution_count": 28,
   "metadata": {},
   "outputs": [
    {
     "data": {
      "text/plain": [
       "[2, 3, 2]"
      ]
     },
     "execution_count": 28,
     "metadata": {},
     "output_type": "execute_result"
    }
   ],
   "source": [
    "func2(2) # uses the default for param_list"
   ]
  },
  {
   "cell_type": "code",
   "execution_count": 25,
   "metadata": {},
   "outputs": [
    {
     "data": {
      "text/plain": [
       "[2, 3]"
      ]
     },
     "execution_count": 25,
     "metadata": {},
     "output_type": "execute_result"
    }
   ],
   "source": [
    "func2(3)"
   ]
  },
  {
   "cell_type": "code",
   "execution_count": 27,
   "metadata": {},
   "outputs": [
    {
     "data": {
      "text/plain": [
       "[7, 8, 9, 4]"
      ]
     },
     "execution_count": 27,
     "metadata": {},
     "output_type": "execute_result"
    }
   ],
   "source": [
    "func2(4, [7,8,9]) # no defaults, works as expected"
   ]
  },
  {
   "cell_type": "code",
   "execution_count": 29,
   "metadata": {},
   "outputs": [
    {
     "data": {
      "text/plain": [
       "[2, 3, 2, 5]"
      ]
     },
     "execution_count": 29,
     "metadata": {},
     "output_type": "execute_result"
    }
   ],
   "source": [
    "func2(5)"
   ]
  },
  {
   "cell_type": "markdown",
   "metadata": {},
   "source": [
    "> You should `never` use a default value that is mutable. If a default mutable is required, it is better to provide a value such as None as the default value in the function deﬁnition and then check for that default value in the function code itself. At that point in the code, you can make a new object and perform the required task."
   ]
  },
  {
   "cell_type": "code",
   "execution_count": null,
   "metadata": {},
   "outputs": [],
   "source": []
  },
  {
   "cell_type": "code",
   "execution_count": null,
   "metadata": {},
   "outputs": [],
   "source": []
  },
  {
   "cell_type": "code",
   "execution_count": null,
   "metadata": {},
   "outputs": [],
   "source": []
  },
  {
   "cell_type": "code",
   "execution_count": null,
   "metadata": {},
   "outputs": [],
   "source": []
  },
  {
   "cell_type": "code",
   "execution_count": null,
   "metadata": {},
   "outputs": [],
   "source": []
  },
  {
   "cell_type": "code",
   "execution_count": null,
   "metadata": {},
   "outputs": [],
   "source": []
  },
  {
   "cell_type": "code",
   "execution_count": null,
   "metadata": {},
   "outputs": [],
   "source": []
  },
  {
   "cell_type": "code",
   "execution_count": null,
   "metadata": {},
   "outputs": [],
   "source": []
  },
  {
   "cell_type": "code",
   "execution_count": null,
   "metadata": {},
   "outputs": [],
   "source": []
  },
  {
   "cell_type": "code",
   "execution_count": null,
   "metadata": {},
   "outputs": [],
   "source": []
  },
  {
   "cell_type": "code",
   "execution_count": null,
   "metadata": {},
   "outputs": [],
   "source": []
  },
  {
   "cell_type": "code",
   "execution_count": null,
   "metadata": {},
   "outputs": [],
   "source": []
  },
  {
   "cell_type": "code",
   "execution_count": null,
   "metadata": {},
   "outputs": [],
   "source": []
  }
 ],
 "metadata": {
  "kernelspec": {
   "display_name": "Python 3",
   "language": "python",
   "name": "python3"
  },
  "language_info": {
   "codemirror_mode": {
    "name": "ipython",
    "version": 3
   },
   "file_extension": ".py",
   "mimetype": "text/x-python",
   "name": "python",
   "nbconvert_exporter": "python",
   "pygments_lexer": "ipython3",
   "version": "3.7.3"
  }
 },
 "nbformat": 4,
 "nbformat_minor": 2
}
