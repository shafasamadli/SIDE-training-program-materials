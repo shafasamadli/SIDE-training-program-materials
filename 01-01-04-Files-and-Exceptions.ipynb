{
 "cells": [
  {
   "cell_type": "markdown",
   "metadata": {},
   "source": [
    "NOW THAT WE UNDERSTAND STRINGS, LET US LOOK AT THE CONCEPT OF A FILE. FILES are an important part of working with computers, and in this section we will introduce the basics of ﬁle handling using Python.\n",
    "\n",
    "**What is a File?**\n",
    "\n",
    "A ﬁle is a collection of bytes of information that usually resides permanently on a disk. Files fall into two broad categories: text ﬁles and binary ﬁles. Text ﬁles were originally organized as ASCII data but now include Unicode data that can handle a greater variety of characters that are required by many languages. In either case, text ﬁles are human-readable (when displayed in a text editor or browser, they will be readable). Binary ﬁles are all other ﬁles—they use some other coding scheme. A classic example is the format that Microsoft uses for Word documents. If you open a Word document in a text editor, it appears as random characters—not human-readable characters.\n",
    "\n",
    "**Accessing Files: Reading text files**\n",
    "\n",
    "To access a ﬁle from Python you must open a connection between the Python shell and the ﬁle residing on a disk. Thus, we are creating a kind of “pipe” between the information on the disk and the program that will use it. This “pipe” will be the conduit for the ﬁle contents to pass back and forth between the disk where the ﬁle resides and the program.\n",
    "\n",
    "The pipe in Python is a ﬁle object that is created when the connection is established. The ﬁle object uses the main memory of the computer to store data as they are moved between the disk and program. The Python open command sets up that connection and returns the ﬁle object that represents the connection. All subsequent actions we perform on a ﬁle are done through this ﬁle object, also sometimes called a ﬁle descriptor or stream. A ﬁle can be opened for reading or writing (or both) through this ﬁle object."
   ]
  },
  {
   "cell_type": "code",
   "execution_count": 5,
   "metadata": {},
   "outputs": [
    {
     "name": "stdout",
     "output_type": "stream",
     "text": [
      "First line\n",
      "Second line\n",
      "Third line"
     ]
    }
   ],
   "source": [
    "temp_file = open('./input/temp.txt')\n",
    "for line_str in temp_file:\n",
    "    print(line_str, end='')\n",
    "temp_file.close()"
   ]
  },
  {
   "cell_type": "markdown",
   "metadata": {},
   "source": [
    "**What happened really**\n",
    "\n",
    "When you set up a connection between your Python program and a ﬁle, you are creating what is called a “stream” of data. Data ﬂows from the ﬁle (on disk) to your program, as in Figure 5.1. An important part of the stream is the buffer that is in main memory where the data is stored on its way between the ﬁle on the disk and your program. The stream is managed by the operating system, which tries to ensure that when your for loop needs the next line, that line will already be in the buffer in memory. A buffer is needed because disk access is slow, so the computer, when it isn’t busy, stores a lot of the ﬁle’s contents in memory. If everything is working well, the whole process will be invisible to the programmer.\n",
    "\n",
    "![](figures/io-streams.png)"
   ]
  },
  {
   "cell_type": "markdown",
   "metadata": {},
   "source": [
    "**Accessing Files: Writting text files**\n",
    "\n",
    "Writing ﬁles requires ﬁrst creating a ﬁle object connection as we did for reading a ﬁle. The only difference is that one speciﬁes “w” rather than “r” in the open command. If the ﬁle doesn’t exist for writing, it will be created."
   ]
  },
  {
   "cell_type": "code",
   "execution_count": 7,
   "metadata": {},
   "outputs": [],
   "source": [
    "temp_file = open('./input/temp2.txt', 'w')\n",
    "print('first line', file=temp_file)\n",
    "print('second line', file=temp_file)\n",
    "temp_file.close()"
   ]
  },
  {
   "cell_type": "markdown",
   "metadata": {},
   "source": [
    "Reverse each line of the input file in the output file."
   ]
  },
  {
   "cell_type": "code",
   "execution_count": 11,
   "metadata": {},
   "outputs": [
    {
     "name": "stdout",
     "output_type": "stream",
     "text": [
      "Line: First line   reversed is: enil tsriF\n",
      "Line: Second line  reversed is: enil dnoceS\n",
      "Line: Third line   reversed is: enil drihT\n"
     ]
    }
   ],
   "source": [
    "input_file = open('input/temp.txt', 'r')\n",
    "output_file = open('input/output.txt', 'w')\n",
    "\n",
    "for line_str in input_file:\n",
    "    new_str = ''\n",
    "    line_str = line_str.strip() # remove carriage return\n",
    "    for char in line_str[::-1]: # concat at the left (reverse)\n",
    "        new_str += char\n",
    "    print(new_str, file=output_file)\n",
    "    \n",
    "    # include a print to shell so we can observe progress\n",
    "    print('Line: {:12s} reversed is: {:s}'.format(line_str, new_str))\n",
    "    \n",
    "input_file.close()\n",
    "output_file.close()"
   ]
  },
  {
   "cell_type": "markdown",
   "metadata": {},
   "source": [
    "**File Creation and Overwritting**\n",
    "\n",
    "![](figures/file-modes.png)"
   ]
  },
  {
   "cell_type": "markdown",
   "metadata": {},
   "source": [
    "**Handling Errors**\n",
    "\n",
    "We have been programming long enough now to know that errors occur in programs. Upon some reﬂection, these errors come in two broad categories: syntax errors and runtime errors.\n",
    "Syntax errors are errors where the code we as programmers write is malformed. Somehow the code does not follow the rules of Python. Perhaps we forgot a colon at the end of a for statement or did not provide an end parenthesis for a print statement. Whatever the error might be, we as programmers must correct the problem and write the code so that it follows the rules.\n",
    "\n",
    "Runtime errors are errors, not of syntax but of application. For example, we can write a Python program that is syntactically correct and tries to divide an integer by 0. There is no rule of the Python language that prevents this, but application of this incorrect program leads to an error. There are many examples of this: dividing by 0 accessing a character past the end of a string, a while loop that never ends, etc. In particular, when we as programmers interact with users, errors can occur.  The user can provide a string of characters where  an integer is needed, the ﬁle string provided does not exist, etc. What are we to do, as programmers, to try and deal with runtime errors when they occur?\n",
    "\n",
    "Up to this point, our approach has been to ignore these issues. If the user provides a ﬁle we cannot open (it doesn’t exist, it is in the wrong directory, etc.), then the program quits at that point. This is not a very helpful solution, since both the user is frustrated (“What the heck does that mean?”) and the programmer is frustrated because of a simple error. We need a way to handle these types of errors as programmers, if we can.\n",
    "\n",
    "Python, and other programming languages, provide a way to deal with errors, the exception system. We will deal with exceptions in more detail in Chapter 14 but for now, exceptions are how we can deal with user input errors."
   ]
  },
  {
   "cell_type": "markdown",
   "metadata": {},
   "source": [
    "**The `try-except` Construct**\n",
    "\n",
    "Python provides a construct called the `try-except` construct that allows a programmer to capture a runtime error and give the programmer the option to handle that error. This construct has two suites, named (not suprisingly) the `try` suite and some number of `except` suites. Their functions are as follows:\n",
    "\n",
    "* The `try` suite contains code that we, as programmers, want to “watch over” for possible runtime errors. That is, we are concerned about a suite of code that might cause a runtime error.\n",
    "* Each `except` clause has associated with it a particular Python error name, of code that will run, if that particular error occurs.\n",
    "\n",
    "```python\n",
    "try:\n",
    "    # suite of code to watch here\n",
    "except:\n",
    "    # suite of code to handle the named error, if it occurs\n",
    "```\n",
    "\n",
    "> **Rule 7**: All input is evil, until proven otherwise."
   ]
  },
  {
   "cell_type": "code",
   "execution_count": 14,
   "metadata": {},
   "outputs": [
    {
     "name": "stdout",
     "output_type": "stream",
     "text": [
      "Open what file:input/temp.txt\n",
      "File exist! End of the program.\n"
     ]
    }
   ],
   "source": [
    "file_str = input('Open what file:')\n",
    "\n",
    "try:\n",
    "    input_file = open(file_str)\n",
    "    print('File exist! End of the program.')\n",
    "    input_file.close()\n",
    "except IOError:\n",
    "    print('The file', file_str, \"doesn't exist.\")"
   ]
  },
  {
   "cell_type": "code",
   "execution_count": null,
   "metadata": {},
   "outputs": [],
   "source": []
  },
  {
   "cell_type": "code",
   "execution_count": null,
   "metadata": {},
   "outputs": [],
   "source": []
  },
  {
   "cell_type": "code",
   "execution_count": null,
   "metadata": {},
   "outputs": [],
   "source": []
  }
 ],
 "metadata": {
  "kernelspec": {
   "display_name": "Python 3",
   "language": "python",
   "name": "python3"
  },
  "language_info": {
   "codemirror_mode": {
    "name": "ipython",
    "version": 3
   },
   "file_extension": ".py",
   "mimetype": "text/x-python",
   "name": "python",
   "nbconvert_exporter": "python",
   "pygments_lexer": "ipython3",
   "version": "3.7.3"
  }
 },
 "nbformat": 4,
 "nbformat_minor": 2
}
