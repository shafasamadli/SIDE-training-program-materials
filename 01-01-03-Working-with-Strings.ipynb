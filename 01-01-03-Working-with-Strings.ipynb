{
 "cells": [
  {
   "cell_type": "markdown",
   "metadata": {},
   "source": [
    "> \"What I hear I forget.\n",
    "\n",
    "> What I see I remember.\n",
    "\n",
    "> What I do I understand.\"\n",
    "**Confucius**"
   ]
  },
  {
   "cell_type": "markdown",
   "metadata": {},
   "source": [
    "**What is and Algorithm?**\n",
    "\n",
    "Formal definition is:\n",
    "`algorithm`: a process or a set of rules to follwed in calculations or other problem-solving operations.\n",
    "\n",
    "Informally, an algorithm is sometimes described as\n",
    "\n",
    "`algorithm`: a recipe for solving problem.\n",
    "\n",
    "Example: *chocolate cake*\n",
    "![](figures/algorithm-example.png)"
   ]
  },
  {
   "cell_type": "markdown",
   "metadata": {},
   "source": [
    "Recipes can be used not only to make food but to make calculations as well.\n",
    "\n",
    "Babylonian Square Root Algorithm: \n",
    "1. Guess the square root of the number. \n",
    "2. Divide the number by the guess. \n",
    "3. Average the quotient (from step 2) and the guess. \n",
    "4. Make the new guess the average from step 3. \n",
    "5. If the new guess is different than the previous guess, go back to step 2; otherwise, stop."
   ]
  },
  {
   "cell_type": "code",
   "execution_count": null,
   "metadata": {},
   "outputs": [],
   "source": []
  },
  {
   "cell_type": "markdown",
   "metadata": {},
   "source": [
    "An algorithm should be:\n",
    "* Detailed\n",
    "* Effective\n",
    "* Specific\n",
    "* General purpose\n",
    "\n",
    "A program should be:\n",
    "* Readable\n",
    "* Robust\n",
    "* Correct"
   ]
  },
  {
   "cell_type": "markdown",
   "metadata": {},
   "source": [
    "> **Rule 6**: If it was hard to write, it is probably hard to read. Add a comment."
   ]
  },
  {
   "cell_type": "code",
   "execution_count": null,
   "metadata": {},
   "outputs": [],
   "source": []
  },
  {
   "cell_type": "markdown",
   "metadata": {},
   "source": [
    "> The basic tool for the manipulation of reality is the manipulation of words. **Phillip K. Dick, author**"
   ]
  },
  {
   "cell_type": "markdown",
   "metadata": {},
   "source": [
    "# Working with `string`"
   ]
  },
  {
   "cell_type": "markdown",
   "metadata": {},
   "source": [
    "MUCH OF THE TIME SPENT ON COMPUTERS INVOLVES WORKING WITH WORDS. WE write emails and essays, we send text messages and instant messages, we post to blogs, we create Facebook pages, we Google for information, and we read web pages. In programming languages, **any sequence of printable characters is referred to as a `string`**.\n",
    "\n",
    "The string type is one of the many collection types provided by Python. As ﬁrst discussed in Section 2.1.4, a collection is a group of Python objects that can be treated as a single object. In particular, a string type is a special kind of collection called a `sequence`.\n",
    "\n",
    "A Python string object can be constructed either by using the string constructor `str` or, as a shortcut, by encompassing a group of characters in either two single quotes `'` or two double quotes `''`."
   ]
  },
  {
   "cell_type": "markdown",
   "metadata": {},
   "source": [
    "**The Triple-Quote String**\n",
    "\n",
    "This string preserves all the format information of the string. If the string spans multiple lines, those carriage returns between lines are preserved. If there are quotes, tabs, any information at all, it is preserved. In this way, you can capture a whole paragraph as a single string.\n",
    "\n",
    "```python\n",
    "zen_str = '''Beautiful is better than ugly.\n",
    "             Explicit is better than implicit.\n",
    "             Simple is better than complex.\n",
    "             Complex is better than complicated.'''\n",
    "```"
   ]
  },
  {
   "cell_type": "markdown",
   "metadata": {},
   "source": [
    "**Non-Printable Characters**\n",
    "\n",
    "Some characters perform necessary operations but show up as whitespace in the output.\n",
    "\n",
    "* `\\n` - carriage return\n",
    "* `\\t` - tab"
   ]
  },
  {
   "cell_type": "code",
   "execution_count": 4,
   "metadata": {},
   "outputs": [
    {
     "name": "stdout",
     "output_type": "stream",
     "text": [
      "first line \n",
      " second line\n",
      "first then tab \t second\n"
     ]
    }
   ],
   "source": [
    "print('first line \\n second line')\n",
    "print('first then tab \\t second')"
   ]
  },
  {
   "cell_type": "markdown",
   "metadata": {},
   "source": [
    "**String Representation**\n",
    "\n",
    "What is the difference between a string and other Python types? For  example, what is  the difference between the integer 1 and the string '1'? One answer is obvious: they are different types! As we have discussed previously, the type of an object determines both the attributes of an object and the kinds of operations that can be performed on the object.  A string is a collection type that has multiple parts: an integer is the representation of a number. Integers are created with the constructor int or with a number (without decimal points); strings are created with the constructor str or by enclosing characters with a pair of quotes. Just as important as its creation, the type of an object determines much of what you can do with that object.\n",
    "\n",
    "Single-character strings, like all other data, are represented in a computer as numbers. When you type on your keyboard, the individual characters are stored in a special computer representation know as Unicode (UTF-8 is the Unicode default for Python 3). UTF-8, and any Unicode set in general, maps each character to an integer. By “map,” we mean that in the UTF-8 set, each character is associated with a particular integer value. That integer is what gets stored in a computer, and Python labels its type as str. Because that integer is stored as a string type, Python knows to map that integer to a particular character in the UTF-8 character set. Take a look at the UTF-8 character mapping shown in Appendix D. Note that, at least within the groups of lowercase letters, uppercase letters, and numbers, the order of the characters is as you would expect: 'a' comes before 'b', '1' before '2', etc.\n",
    "\n",
    "You can experiment with the mapping yourself. Python provides two special functions, `ord` and `chr`, to capture the relationship between UTF-8 and a character. The ord function shows the UTF-8 integer associated with a character. For example, ord('a') yields a value 97, because 'a' is associated with 97 in the UTF-8 table. Similarly, the chr function takes an integer and yields the character associated with that integer in the UTF-8 table. Thus chr(97) yields the value 'a' because 'a' is associated with the integer 97 in the UTF-8 table."
   ]
  },
  {
   "cell_type": "code",
   "execution_count": 5,
   "metadata": {},
   "outputs": [
    {
     "data": {
      "text/plain": [
       "97"
      ]
     },
     "execution_count": 5,
     "metadata": {},
     "output_type": "execute_result"
    }
   ],
   "source": [
    "ord('a')"
   ]
  },
  {
   "cell_type": "code",
   "execution_count": 6,
   "metadata": {},
   "outputs": [
    {
     "data": {
      "text/plain": [
       "'m'"
      ]
     },
     "execution_count": 6,
     "metadata": {},
     "output_type": "execute_result"
    }
   ],
   "source": [
    "chr(109)"
   ]
  },
  {
   "cell_type": "code",
   "execution_count": 8,
   "metadata": {},
   "outputs": [
    {
     "name": "stdout",
     "output_type": "stream",
     "text": [
      "Z [ \\ ] ^ _ ` a b c d e f g h i j k l m "
     ]
    }
   ],
   "source": [
    "# get character representation from 90 to 110\n",
    "for i in range(90, 110, 1):\n",
    "    print(chr(i), end=' ')"
   ]
  },
  {
   "cell_type": "markdown",
   "metadata": {},
   "source": [
    "**Strings as a Sequence**\n",
    "\n",
    "This position is called the index of the character within the string. In Python, and other languages as well, the ﬁrst index (the ﬁrst position) in a sequence is index 0.\n",
    "\n",
    "Python lets us look at the individual characters in the string sequence using the `indexing` operator, represented by the square brackets operator `[]`. The indexing operator works by associating square brackets with a string, with an integer within the brackets.\n",
    "\n",
    "Python also allows **indexing from the back end of the sequence**. Thus, if you want to index from the string end, Python starts indexing the last character of the string with -1 and subtracts one from the index for each character to the left."
   ]
  },
  {
   "cell_type": "code",
   "execution_count": 9,
   "metadata": {},
   "outputs": [
    {
     "data": {
      "text/plain": [
       "'Hello World'"
      ]
     },
     "execution_count": 9,
     "metadata": {},
     "output_type": "execute_result"
    }
   ],
   "source": [
    "hello_str = 'Hello World'\n",
    "hello_str"
   ]
  },
  {
   "cell_type": "code",
   "execution_count": 10,
   "metadata": {},
   "outputs": [
    {
     "data": {
      "text/plain": [
       "'H'"
      ]
     },
     "execution_count": 10,
     "metadata": {},
     "output_type": "execute_result"
    }
   ],
   "source": [
    "hello_str[0]"
   ]
  },
  {
   "cell_type": "code",
   "execution_count": 11,
   "metadata": {},
   "outputs": [
    {
     "data": {
      "text/plain": [
       "' '"
      ]
     },
     "execution_count": 11,
     "metadata": {},
     "output_type": "execute_result"
    }
   ],
   "source": [
    "hello_str[5]"
   ]
  },
  {
   "cell_type": "code",
   "execution_count": 12,
   "metadata": {},
   "outputs": [
    {
     "data": {
      "text/plain": [
       "'d'"
      ]
     },
     "execution_count": 12,
     "metadata": {},
     "output_type": "execute_result"
    }
   ],
   "source": [
    "hello_str[-1]"
   ]
  },
  {
   "cell_type": "code",
   "execution_count": 13,
   "metadata": {},
   "outputs": [
    {
     "ename": "IndexError",
     "evalue": "string index out of range",
     "output_type": "error",
     "traceback": [
      "\u001b[1;31m---------------------------------------------------------------------------\u001b[0m",
      "\u001b[1;31mIndexError\u001b[0m                                Traceback (most recent call last)",
      "\u001b[1;32m<ipython-input-13-49dd14afca5a>\u001b[0m in \u001b[0;36m<module>\u001b[1;34m\u001b[0m\n\u001b[1;32m----> 1\u001b[1;33m \u001b[0mhello_str\u001b[0m\u001b[1;33m[\u001b[0m\u001b[1;36m11\u001b[0m\u001b[1;33m]\u001b[0m\u001b[1;33m\u001b[0m\u001b[1;33m\u001b[0m\u001b[0m\n\u001b[0m",
      "\u001b[1;31mIndexError\u001b[0m: string index out of range"
     ]
    }
   ],
   "source": [
    "hello_str[11]"
   ]
  },
  {
   "cell_type": "markdown",
   "metadata": {},
   "source": [
    "**More Indexing and Slicing**\n",
    "\n",
    "Indexing in Python allows you to indicate more than just a single character string. You can also select subsequences of the string with the proper indicies. Python calls such a subsequence a slice. Remember, just like for a single index, a slice returns a new string and does not change the original string in any way (even though slice sounds like it would!).\n",
    "\n",
    "To index a subsequence, you indicate a range of indicies within the square bracket by providing a pair of indices separated by a colon (:). The colon within the index operator brackets indicates that, instead of a single position being selected, a range of indices is being selected.\n",
    "\n",
    "![](figures/string-indexing.png)"
   ]
  },
  {
   "cell_type": "code",
   "execution_count": 14,
   "metadata": {},
   "outputs": [
    {
     "data": {
      "text/plain": [
       "'Worl'"
      ]
     },
     "execution_count": 14,
     "metadata": {},
     "output_type": "execute_result"
    }
   ],
   "source": [
    "hello_str[6:10]"
   ]
  },
  {
   "cell_type": "code",
   "execution_count": 19,
   "metadata": {},
   "outputs": [
    {
     "data": {
      "text/plain": [
       "'World'"
      ]
     },
     "execution_count": 19,
     "metadata": {},
     "output_type": "execute_result"
    }
   ],
   "source": [
    "hello_str[6:] # no ending value defaults to the end of string"
   ]
  },
  {
   "cell_type": "code",
   "execution_count": 20,
   "metadata": {},
   "outputs": [
    {
     "data": {
      "text/plain": [
       "'Hello'"
      ]
     },
     "execution_count": 20,
     "metadata": {},
     "output_type": "execute_result"
    }
   ],
   "source": [
    "hello_str[:5] # no start value defaults to beginning of string"
   ]
  },
  {
   "cell_type": "code",
   "execution_count": 21,
   "metadata": {},
   "outputs": [
    {
     "data": {
      "text/plain": [
       "'d'"
      ]
     },
     "execution_count": 21,
     "metadata": {},
     "output_type": "execute_result"
    }
   ],
   "source": [
    "hello_str[-1] # negative index works back from the end"
   ]
  },
  {
   "cell_type": "code",
   "execution_count": 18,
   "metadata": {},
   "outputs": [
    {
     "data": {
      "text/plain": [
       "'lo Wor'"
      ]
     },
     "execution_count": 18,
     "metadata": {},
     "output_type": "execute_result"
    }
   ],
   "source": [
    "hello_str[3:-2]"
   ]
  },
  {
   "cell_type": "markdown",
   "metadata": {},
   "source": [
    "Slicing allows a third parameter that speciﬁes the step in the slice. This means that you can have as many as three numbers in the index operator brackets separated by two colon characters: the ﬁrst number is the beginning of the sequence, the second number speciﬁes the end of the sequence, and the third is the step to take along the sequence. As with the ﬁrst two arguments, the step number has a default if not indicated: a step of 1. The step value indicates the step size through the sequence."
   ]
  },
  {
   "cell_type": "code",
   "execution_count": 22,
   "metadata": {},
   "outputs": [
    {
     "data": {
      "text/plain": [
       "'HloWrd'"
      ]
     },
     "execution_count": 22,
     "metadata": {},
     "output_type": "execute_result"
    }
   ],
   "source": [
    "hello_str[::2]"
   ]
  },
  {
   "cell_type": "code",
   "execution_count": 25,
   "metadata": {},
   "outputs": [
    {
     "data": {
      "text/plain": [
       "'HlWl'"
      ]
     },
     "execution_count": 25,
     "metadata": {},
     "output_type": "execute_result"
    }
   ],
   "source": [
    "hello_str[::3] # every third letter"
   ]
  },
  {
   "cell_type": "code",
   "execution_count": 26,
   "metadata": {},
   "outputs": [
    {
     "data": {
      "text/plain": [
       "'dlroW olleH'"
      ]
     },
     "execution_count": 26,
     "metadata": {},
     "output_type": "execute_result"
    }
   ],
   "source": [
    "hello_str[::-1] # step backwards from the end to the beginning"
   ]
  },
  {
   "cell_type": "code",
   "execution_count": 27,
   "metadata": {},
   "outputs": [
    {
     "data": {
      "text/plain": [
       "'drWolH'"
      ]
     },
     "execution_count": 27,
     "metadata": {},
     "output_type": "execute_result"
    }
   ],
   "source": [
    "hello_str[::-2] # backwards, every other letter"
   ]
  },
  {
   "cell_type": "code",
   "execution_count": 28,
   "metadata": {},
   "outputs": [
    {
     "data": {
      "text/plain": [
       "'02468'"
      ]
     },
     "execution_count": 28,
     "metadata": {},
     "output_type": "execute_result"
    }
   ],
   "source": [
    "digits = '0123456789'\n",
    "\n",
    "digits[::2] # even digits"
   ]
  },
  {
   "cell_type": "code",
   "execution_count": 30,
   "metadata": {},
   "outputs": [
    {
     "data": {
      "text/plain": [
       "'13579'"
      ]
     },
     "execution_count": 30,
     "metadata": {},
     "output_type": "execute_result"
    }
   ],
   "source": [
    "digits[1::2] # odd digits (starts at 1)"
   ]
  },
  {
   "cell_type": "code",
   "execution_count": 31,
   "metadata": {},
   "outputs": [
    {
     "data": {
      "text/plain": [
       "'9876543210'"
      ]
     },
     "execution_count": 31,
     "metadata": {},
     "output_type": "execute_result"
    }
   ],
   "source": [
    "digits[::-1] # reverse digits"
   ]
  },
  {
   "cell_type": "code",
   "execution_count": 32,
   "metadata": {},
   "outputs": [
    {
     "data": {
      "text/plain": [
       "'97531'"
      ]
     },
     "execution_count": 32,
     "metadata": {},
     "output_type": "execute_result"
    }
   ],
   "source": [
    "digits[::-2] # reverse odds"
   ]
  },
  {
   "cell_type": "code",
   "execution_count": 33,
   "metadata": {},
   "outputs": [
    {
     "data": {
      "text/plain": [
       "'86420'"
      ]
     },
     "execution_count": 33,
     "metadata": {},
     "output_type": "execute_result"
    }
   ],
   "source": [
    "digits[-2::-2] # reverse evens"
   ]
  },
  {
   "cell_type": "markdown",
   "metadata": {},
   "source": [
    "`Copy Slice` - a new string is yielded as the result of a slice; the original string is not modiﬁed. Thus a copy slice is indeed a new copy of the original string."
   ]
  },
  {
   "cell_type": "code",
   "execution_count": 42,
   "metadata": {},
   "outputs": [
    {
     "data": {
      "text/plain": [
       "'Monty'"
      ]
     },
     "execution_count": 42,
     "metadata": {},
     "output_type": "execute_result"
    }
   ],
   "source": [
    "name_one = 'Monty'\n",
    "name_two = name_one[:]\n",
    "name_two"
   ]
  },
  {
   "cell_type": "markdown",
   "metadata": {},
   "source": [
    "**Strings are Iterable**\n",
    "\n",
    "A data type that is iterable means that the individual elements can be “iterated through” using a for loop (or other methods). A string is indeed an iterable data type, and you can iterate through the individual elements of a string using a for loop. Because strings are also a sequence, iteration through a string yields the elements of the string in the order in which they appear in the string."
   ]
  },
  {
   "cell_type": "code",
   "execution_count": 48,
   "metadata": {},
   "outputs": [
    {
     "name": "stdout",
     "output_type": "stream",
     "text": [
      "H <class 'str'>\n",
      "i <class 'str'>\n",
      "  <class 'str'>\n",
      "B <class 'str'>\n",
      "a <class 'str'>\n",
      "k <class 'str'>\n",
      "u <class 'str'>\n"
     ]
    }
   ],
   "source": [
    "for char in 'Hi Baku':\n",
    "    print(char, type(char))"
   ]
  },
  {
   "cell_type": "markdown",
   "metadata": {},
   "source": [
    "**Concatenation and Repetition**\n",
    "\n",
    "* concatenate `+`: The operator + requires two string objects and creates a new string object. The new string object is formed by concatenating copies of the two string objects together: the ﬁrst string joined at its end to the beginning of the second string.\n",
    "* repeat `*`: The * takes a string object and an integer and creates a new string object. The new string object has as many copies of the string as is indicated by the integer."
   ]
  },
  {
   "cell_type": "code",
   "execution_count": 50,
   "metadata": {},
   "outputs": [
    {
     "data": {
      "text/plain": [
       "'HelloWorld'"
      ]
     },
     "execution_count": 50,
     "metadata": {},
     "output_type": "execute_result"
    }
   ],
   "source": [
    "my_str = 'Hello'\n",
    "your_str = 'World'\n",
    "\n",
    "my_str + your_str # concatenation"
   ]
  },
  {
   "cell_type": "code",
   "execution_count": 51,
   "metadata": {},
   "outputs": [
    {
     "data": {
      "text/plain": [
       "'WorldHello'"
      ]
     },
     "execution_count": 51,
     "metadata": {},
     "output_type": "execute_result"
    }
   ],
   "source": [
    "your_str + my_str # order does matter in concatenation"
   ]
  },
  {
   "cell_type": "code",
   "execution_count": 52,
   "metadata": {},
   "outputs": [
    {
     "data": {
      "text/plain": [
       "'Hello World'"
      ]
     },
     "execution_count": 52,
     "metadata": {},
     "output_type": "execute_result"
    }
   ],
   "source": [
    "my_str + ' ' + your_str # add a space between"
   ]
  },
  {
   "cell_type": "code",
   "execution_count": 53,
   "metadata": {},
   "outputs": [
    {
     "data": {
      "text/plain": [
       "'HelloHelloHello'"
      ]
     },
     "execution_count": 53,
     "metadata": {},
     "output_type": "execute_result"
    }
   ],
   "source": [
    "my_str * 3 # replication"
   ]
  },
  {
   "cell_type": "code",
   "execution_count": 54,
   "metadata": {},
   "outputs": [
    {
     "data": {
      "text/plain": [
       "'HelloHelloHello'"
      ]
     },
     "execution_count": 54,
     "metadata": {},
     "output_type": "execute_result"
    }
   ],
   "source": [
    "3 * my_str # order does not matter in replication"
   ]
  },
  {
   "cell_type": "code",
   "execution_count": 58,
   "metadata": {},
   "outputs": [
    {
     "data": {
      "text/plain": [
       "'Hello Hello Hello '"
      ]
     },
     "execution_count": 58,
     "metadata": {},
     "output_type": "execute_result"
    }
   ],
   "source": [
    "(my_str + ' ') * 3 # parantheses force ordering"
   ]
  },
  {
   "cell_type": "code",
   "execution_count": 57,
   "metadata": {},
   "outputs": [
    {
     "data": {
      "text/plain": [
       "'Hello   '"
      ]
     },
     "execution_count": 57,
     "metadata": {},
     "output_type": "execute_result"
    }
   ],
   "source": [
    "my_str + ' ' * 3 # withour paranthesis repeat spaces"
   ]
  },
  {
   "cell_type": "code",
   "execution_count": 59,
   "metadata": {},
   "outputs": [
    {
     "ename": "TypeError",
     "evalue": "can only concatenate str (not \"int\") to str",
     "output_type": "error",
     "traceback": [
      "\u001b[1;31m---------------------------------------------------------------------------\u001b[0m",
      "\u001b[1;31mTypeError\u001b[0m                                 Traceback (most recent call last)",
      "\u001b[1;32m<ipython-input-59-4c72cd0549e5>\u001b[0m in \u001b[0;36m<module>\u001b[1;34m\u001b[0m\n\u001b[1;32m----> 1\u001b[1;33m \u001b[1;34m'hello'\u001b[0m \u001b[1;33m+\u001b[0m \u001b[1;36m3\u001b[0m \u001b[1;31m# wrong types for concatenation, requires two strings\u001b[0m\u001b[1;33m\u001b[0m\u001b[1;33m\u001b[0m\u001b[0m\n\u001b[0m",
      "\u001b[1;31mTypeError\u001b[0m: can only concatenate str (not \"int\") to str"
     ]
    }
   ],
   "source": [
    "'hello' + 3 # wrong types for concatenation, requires two strings"
   ]
  },
  {
   "cell_type": "code",
   "execution_count": 60,
   "metadata": {},
   "outputs": [
    {
     "ename": "TypeError",
     "evalue": "can't multiply sequence by non-int of type 'str'",
     "output_type": "error",
     "traceback": [
      "\u001b[1;31m---------------------------------------------------------------------------\u001b[0m",
      "\u001b[1;31mTypeError\u001b[0m                                 Traceback (most recent call last)",
      "\u001b[1;32m<ipython-input-60-f5e63e1d6605>\u001b[0m in \u001b[0;36m<module>\u001b[1;34m\u001b[0m\n\u001b[1;32m----> 1\u001b[1;33m \u001b[1;34m'hello'\u001b[0m \u001b[1;33m*\u001b[0m \u001b[1;34m'world'\u001b[0m \u001b[1;31m# wrong types for replication, requires string and int\u001b[0m\u001b[1;33m\u001b[0m\u001b[1;33m\u001b[0m\u001b[0m\n\u001b[0m",
      "\u001b[1;31mTypeError\u001b[0m: can't multiply sequence by non-int of type 'str'"
     ]
    }
   ],
   "source": [
    "'hello' * 'world' # wrong types for replication, requires string and int"
   ]
  },
  {
   "cell_type": "markdown",
   "metadata": {},
   "source": [
    "How does Python know whether to do concatenation or addition when it sees a + operator? The answer is that the types of the operands indicate the operation to be performed.\n",
    "\n",
    "In general, the fact that a single operator can perform multiple tasks is called operator `overloading`. By overloading, we mean that a single operator, such as +, will perform different operations depending on the types of its operands.\n",
    "\n",
    "When the Python interpreter sees a + operator, it examines the types of the operands. If the operands are numbers (integers or ﬂoating-point numbers), the interpreter will perform addition. If the operands are strings, the interpreter will perform concatenation. If the operands are a mixture of numbers and strings, the Python interpreter will generate an error. "
   ]
  },
  {
   "cell_type": "markdown",
   "metadata": {},
   "source": [
    "**Comparison Operators**\n",
    "\n",
    "**Single-Character String Compares**\n",
    "Let’s start easy and work with only single-character strings. You can compare two single- character strings using the equality operator ==, as in 'a' == 'a'. If the two single characters are the same, the expression returns True. Note that the expression 'a' == 'A' returns False as those are indeed two different strings.\n",
    "\n",
    "What about the greater than (>) or less than (<) operators? The easy example would be 'a' > 'a', which is obviously False. What is the result of 'a' > 'A'? If you type it into the shell, you will get the result True. Why? We introduced the functions ord and chr in Section 4.1.3. These two functions help us relate a character and its integer representation in the Unicode UTF-8 table. All comparisons between two single characters are done     on the basis of their UTF-8 integer mapping. When we compare 'a' > 'A', Python fetches the associated UTF-8 number for both characters and compares those two numbers. Because ord('a') is 97 and ord('A') is 65, the question becomes whether 97 > 65, which yields True. Conveniently, the lowercase letters are all sequentially ordered, so that 'a' < 'b', 'b' < 'c', and so on. Similarly, the capital letters are sequentially ordered, so that 'A' < 'B', 'B' < 'C', and so on. Finally, the numeric characters are also ordered, so that '0' < '1', '1' < '2', and so on. However, only the run of lowercase, uppercase, and numeric strings follow the assumed order. It is also True that '0' < 'a' and 'A' < 'a'. If you wonder about character ordering, the UTF-8 table or the associated functions ord and chr should resolve the question."
   ]
  },
  {
   "cell_type": "code",
   "execution_count": 61,
   "metadata": {},
   "outputs": [
    {
     "data": {
      "text/plain": [
       "True"
      ]
     },
     "execution_count": 61,
     "metadata": {},
     "output_type": "execute_result"
    }
   ],
   "source": [
    "'a' > 'A'"
   ]
  },
  {
   "cell_type": "code",
   "execution_count": 62,
   "metadata": {},
   "outputs": [
    {
     "data": {
      "text/plain": [
       "True"
      ]
     },
     "execution_count": 62,
     "metadata": {},
     "output_type": "execute_result"
    }
   ],
   "source": [
    "'0' < '1'"
   ]
  },
  {
   "cell_type": "code",
   "execution_count": 63,
   "metadata": {},
   "outputs": [
    {
     "data": {
      "text/plain": [
       "True"
      ]
     },
     "execution_count": 63,
     "metadata": {},
     "output_type": "execute_result"
    }
   ],
   "source": [
    "'0' < 'a'"
   ]
  },
  {
   "cell_type": "markdown",
   "metadata": {},
   "source": [
    "**Comparing Strings with More than One Character**\n",
    "\n",
    "String comparison—in fact, any sequence comparison—works as follows. The basic idea is to, in parallel, examine both string characters at some index and then walk through both strings until a difference in characters is found.\n",
    "\n",
    "1.\tStart at index 0, the beginning of both strings.\n",
    "2.\tCompare the two single characters at the present index of each each string.\n",
    "    * If the two characters are equal, increase the present index of both strings by 1 and go back to the beginning of step 2.\n",
    "    * If the two characters are not equal, return the result of comparing those two characters as the result of the string comparison.\n",
    "3.\tIf both strings are equal up to some point but one is shorter than the other, then the longer string is always greater. For example, `'ab' < 'abc'` returns `True`.\n"
   ]
  },
  {
   "cell_type": "code",
   "execution_count": 64,
   "metadata": {},
   "outputs": [
    {
     "data": {
      "text/plain": [
       "True"
      ]
     },
     "execution_count": 64,
     "metadata": {},
     "output_type": "execute_result"
    }
   ],
   "source": [
    "'abc' < 'cde'"
   ]
  },
  {
   "cell_type": "code",
   "execution_count": 65,
   "metadata": {},
   "outputs": [
    {
     "data": {
      "text/plain": [
       "True"
      ]
     },
     "execution_count": 65,
     "metadata": {},
     "output_type": "execute_result"
    }
   ],
   "source": [
    "'abc' < 'abd'"
   ]
  },
  {
   "cell_type": "code",
   "execution_count": 66,
   "metadata": {},
   "outputs": [
    {
     "data": {
      "text/plain": [
       "True"
      ]
     },
     "execution_count": 66,
     "metadata": {},
     "output_type": "execute_result"
    }
   ],
   "source": [
    "'' < 'a'"
   ]
  },
  {
   "cell_type": "markdown",
   "metadata": {},
   "source": [
    "**The `in` Operator**\n",
    "\n",
    "The in operator is useful for checking membership in a collection. An example of its use is 'a' in 'abcd'. The operator takes two arguments: the collection we are testing and the element we are looking for in the collection. \n",
    "True . The test string sequence must be found **exactly**."
   ]
  },
  {
   "cell_type": "code",
   "execution_count": 67,
   "metadata": {},
   "outputs": [
    {
     "data": {
      "text/plain": [
       "True"
      ]
     },
     "execution_count": 67,
     "metadata": {},
     "output_type": "execute_result"
    }
   ],
   "source": [
    "vowels = 'aeiou'\n",
    "\n",
    "'a' in vowels"
   ]
  },
  {
   "cell_type": "code",
   "execution_count": 68,
   "metadata": {},
   "outputs": [
    {
     "data": {
      "text/plain": [
       "False"
      ]
     },
     "execution_count": 68,
     "metadata": {},
     "output_type": "execute_result"
    }
   ],
   "source": [
    "'x' in vowels"
   ]
  },
  {
   "cell_type": "code",
   "execution_count": 69,
   "metadata": {},
   "outputs": [
    {
     "data": {
      "text/plain": [
       "True"
      ]
     },
     "execution_count": 69,
     "metadata": {},
     "output_type": "execute_result"
    }
   ],
   "source": [
    "'eio' in vowels"
   ]
  },
  {
   "cell_type": "code",
   "execution_count": 70,
   "metadata": {},
   "outputs": [
    {
     "data": {
      "text/plain": [
       "False"
      ]
     },
     "execution_count": 70,
     "metadata": {},
     "output_type": "execute_result"
    }
   ],
   "source": [
    "'aiu' in vowels"
   ]
  },
  {
   "cell_type": "markdown",
   "metadata": {},
   "source": [
    "**String Collections are `immutable`**\n",
    "\n",
    "Given that a string is a collection—a sequence, in fact—it is tempting to try the following kind of operation: create a string and then try to change a particular character in that string to a new character. In Python, that would look something like the following session:"
   ]
  },
  {
   "cell_type": "code",
   "execution_count": 71,
   "metadata": {},
   "outputs": [
    {
     "ename": "TypeError",
     "evalue": "'str' object does not support item assignment",
     "output_type": "error",
     "traceback": [
      "\u001b[1;31m---------------------------------------------------------------------------\u001b[0m",
      "\u001b[1;31mTypeError\u001b[0m                                 Traceback (most recent call last)",
      "\u001b[1;32m<ipython-input-71-ebef10ae6ea1>\u001b[0m in \u001b[0;36m<module>\u001b[1;34m\u001b[0m\n\u001b[0;32m      1\u001b[0m \u001b[0mmy_str\u001b[0m \u001b[1;33m=\u001b[0m \u001b[1;34m'Hello'\u001b[0m\u001b[1;33m\u001b[0m\u001b[1;33m\u001b[0m\u001b[0m\n\u001b[1;32m----> 2\u001b[1;33m \u001b[0mmy_str\u001b[0m\u001b[1;33m[\u001b[0m\u001b[1;36m0\u001b[0m\u001b[1;33m]\u001b[0m \u001b[1;33m=\u001b[0m \u001b[1;34m'J'\u001b[0m\u001b[1;33m\u001b[0m\u001b[1;33m\u001b[0m\u001b[0m\n\u001b[0m",
      "\u001b[1;31mTypeError\u001b[0m: 'str' object does not support item assignment"
     ]
    }
   ],
   "source": [
    "my_str = 'Hello'\n",
    "my_str[0] = 'J'"
   ]
  },
  {
   "cell_type": "markdown",
   "metadata": {},
   "source": [
    "What is wrong? The problem is a special characteristic of some collections in Python. The string type, as well as some other types, are `immutable`. This means that once the object is created, usually by assignment, its contents cannot be modiﬁed. Having an index expression on the left side of an assignment statement is an attempt to do exactly that—change one of the elements of the string sequence. Such a modiﬁcation is not allowed with the string type.\n",
    "\n",
    "There are some efﬁciency reasons for this restriction. By making strings immutable, the Python interpreter is faster. However, immutable strings are an advantage for the programmer as well. No matter what you do to a string, you are guaranteed that the original string is not changed. By deﬁnition, it cannot be changed; it is immutable. As a result, all Python string operators must generate a new string. Once you create a string, you cannot change it. You must create a new string to reﬂect any changes you desire."
   ]
  },
  {
   "cell_type": "markdown",
   "metadata": {},
   "source": [
    "**String `Functions` and `Methods`**\n",
    "\n",
    "**Functions**\n",
    "\n",
    "Think of a function as a small program that performs a speciﬁc task. That program is packaged up, or encapsulated, and made available for use. The function can take some input values, perform some task by executing statements and evaluating expressions, and, when ﬁnished, potentially return a value. Functions are useful because we use them to perform commonly needed tasks. Instead of writing the same code over and over again, we encapsulate that code in a function, making it easier to use.\n",
    "\n",
    "Functions should not be a completely new concept for you, as we use functions fre- quently in mathematics. One example is the square root function. It takes a real number as an argument and then returns a number that is the square root. How the square root is calcu- lated is not important to us. We care only that works and that it works correctly. In this way, the square root operation is encapsulated; the details of its operation are hidden from you. "
   ]
  },
  {
   "cell_type": "code",
   "execution_count": 72,
   "metadata": {},
   "outputs": [
    {
     "data": {
      "text/plain": [
       "11"
      ]
     },
     "execution_count": 72,
     "metadata": {},
     "output_type": "execute_result"
    }
   ],
   "source": [
    "my_str = 'Hello World'\n",
    "len(my_str)"
   ]
  },
  {
   "cell_type": "markdown",
   "metadata": {},
   "source": [
    "**Methods**\n",
    "\n",
    "A method is a variation on a function. It looks very similar. It has a name and it has a list of arguments in parentheses. It differs, however, in the way it is invoked. Every method is called in conjunction with a particular object. The kinds of methods that can be used in conjunction with an object depends on the object’s type. String objects have a set of methods suited for strings, just as integers have integer methods, and ﬂoats have ﬂoat methods. The invocation is done using what is called the dot notation."
   ]
  },
  {
   "cell_type": "code",
   "execution_count": 77,
   "metadata": {},
   "outputs": [
    {
     "data": {
      "text/plain": [
       "'PYTHON RULES!'"
      ]
     },
     "execution_count": 77,
     "metadata": {},
     "output_type": "execute_result"
    }
   ],
   "source": [
    "my_str = 'Python rules!'\n",
    "my_str.upper() # converts all character into uppercase"
   ]
  },
  {
   "cell_type": "code",
   "execution_count": 76,
   "metadata": {},
   "outputs": [
    {
     "data": {
      "text/plain": [
       "-1"
      ]
     },
     "execution_count": 76,
     "metadata": {},
     "output_type": "execute_result"
    }
   ],
   "source": [
    "my_str.find('m') # returns the index of the sibstring in the string where the sinstring first occurs"
   ]
  },
  {
   "cell_type": "code",
   "execution_count": 75,
   "metadata": {},
   "outputs": [
    {
     "data": {
      "text/plain": [
       "0"
      ]
     },
     "execution_count": 75,
     "metadata": {},
     "output_type": "execute_result"
    }
   ],
   "source": [
    "my_str.find('P')"
   ]
  },
  {
   "cell_type": "markdown",
   "metadata": {},
   "source": [
    "Chaining of Methods"
   ]
  },
  {
   "cell_type": "code",
   "execution_count": 78,
   "metadata": {},
   "outputs": [
    {
     "data": {
      "text/plain": [
       "4"
      ]
     },
     "execution_count": 78,
     "metadata": {},
     "output_type": "execute_result"
    }
   ],
   "source": [
    "my_str.upper().find('O')"
   ]
  },
  {
   "cell_type": "markdown",
   "metadata": {},
   "source": [
    "Nesting of Methods"
   ]
  },
  {
   "cell_type": "code",
   "execution_count": 79,
   "metadata": {},
   "outputs": [
    {
     "data": {
      "text/plain": [
       "7"
      ]
     },
     "execution_count": 79,
     "metadata": {},
     "output_type": "execute_result"
    }
   ],
   "source": [
    "a_str = 'He had the bat.'\n",
    "a_str.find('t')"
   ]
  },
  {
   "cell_type": "code",
   "execution_count": 81,
   "metadata": {},
   "outputs": [
    {
     "data": {
      "text/plain": [
       "13"
      ]
     },
     "execution_count": 81,
     "metadata": {},
     "output_type": "execute_result"
    }
   ],
   "source": [
    "a_str.find('t', 8) # start at index 8 = 7 + 1"
   ]
  },
  {
   "cell_type": "code",
   "execution_count": 84,
   "metadata": {},
   "outputs": [
    {
     "data": {
      "text/plain": [
       "13"
      ]
     },
     "execution_count": 84,
     "metadata": {},
     "output_type": "execute_result"
    }
   ],
   "source": [
    "a_str.find('t', a_str.find('t') + 1) # start at one after the forst 't'"
   ]
  },
  {
   "cell_type": "markdown",
   "metadata": {},
   "source": [
    "![](figures/string-methods.png)"
   ]
  },
  {
   "cell_type": "markdown",
   "metadata": {},
   "source": [
    "**Formatted Output for Strings**\n",
    "\n",
    "Using the default print function is easy, but it provides no control of what is called the `format` of the output. By format, we mean a low-level kind of typesetting to better control how the output looks on the console. Python provides a ﬁner level of control that gives us, the programmer, the option to provide “prettier,” more readable, output. Conveniently, the control of console typesetting is done through the use of the string format method."
   ]
  },
  {
   "cell_type": "code",
   "execution_count": 85,
   "metadata": {},
   "outputs": [
    {
     "data": {
      "text/plain": [
       "'Bill is 25 years old.'"
      ]
     },
     "execution_count": 85,
     "metadata": {},
     "output_type": "execute_result"
    }
   ],
   "source": [
    "'{} is {} years old.'.format('Bill', 25)"
   ]
  },
  {
   "cell_type": "code",
   "execution_count": 86,
   "metadata": {},
   "outputs": [
    {
     "data": {
      "text/plain": [
       "'1 is nice but 3.141592653589793 is divine!'"
      ]
     },
     "execution_count": 86,
     "metadata": {},
     "output_type": "execute_result"
    }
   ],
   "source": [
    "import math\n",
    "'{} is nice but {} is divine!'.format(1, math.pi)"
   ]
  },
  {
   "cell_type": "markdown",
   "metadata": {},
   "source": [
    "The way each object is formatted in the string is done by default based on its type, as was shown in the previous session. However, each brace can include formatting commands that provide directives about how a particular object is to be printed. The four pieces of information that one can provide for a particular object are a descriptor code, an alignment number, a width number, and a precision descriptor. We will review each of those in the sections below.\n",
    "\n",
    "**Descriptor Codes**\n",
    "\n",
    "The formatting commands include a set of descriptor codes that dictate the type of object to be placed at that location in the string and formatting operations that can be performed on that type. The descriptor can control how an individual object of that type is printed to the screen.\n",
    "\n",
    "The most commonly used descriptor codes.:\n",
    "* `s` - string\n",
    "* `d` - decimal integer\n",
    "* `f` - floating-point decimal\n",
    "* `e` - floating-point exponential\n",
    "* `%` - floating-point as percent\n",
    "\n",
    "**Width and Alignment Descriptors**\n",
    "\n",
    "A ﬁeld width can be speciﬁed for each data item. It speciﬁes a printing-ﬁeld width, counted as the number of spaces the object occupies. By default, formatted strings are left justiﬁed and formatted numbers are right justiﬁed. If the speciﬁcation includes a less than `<`, the data are placed left justiﬁed within the indicated width; a greater than `>` forces right justiﬁcation. Centering can be done using `ˆ`.\n",
    "\n",
    "* `<` - left\n",
    "* `>` - right\n",
    "* `^` - center\n",
    "\n",
    "![](figures/string-formatting.png)"
   ]
  },
  {
   "cell_type": "code",
   "execution_count": 88,
   "metadata": {},
   "outputs": [
    {
     "name": "stdout",
     "output_type": "stream",
     "text": [
      "         0 -->    0\n",
      "         1 -->    1\n",
      "         2 -->    4\n",
      "         3 -->    9\n",
      "         4 -->   16\n"
     ]
    }
   ],
   "source": [
    "for i in range(5):\n",
    "    print('{:10d} --> {:4d}'.format(i, i**2))"
   ]
  },
  {
   "cell_type": "markdown",
   "metadata": {},
   "source": [
    "**Floating-Point Precision Descriptor**\n",
    "\n",
    "When printing ﬂoating-point values, it is desirable to control the number of digits to    the right of the decimal point—that is, the precision. Precision is speciﬁed in the format descriptor using a decimal point followed by an integer to specify the precision."
   ]
  },
  {
   "cell_type": "code",
   "execution_count": 89,
   "metadata": {},
   "outputs": [
    {
     "name": "stdout",
     "output_type": "stream",
     "text": [
      "3.141592653589793\n"
     ]
    }
   ],
   "source": [
    "import math\n",
    "print(math.pi)"
   ]
  },
  {
   "cell_type": "code",
   "execution_count": 90,
   "metadata": {},
   "outputs": [
    {
     "name": "stdout",
     "output_type": "stream",
     "text": [
      "Pi is 3.1416\n"
     ]
    }
   ],
   "source": [
    "print('Pi is {:.4f}'.format(math.pi))"
   ]
  },
  {
   "cell_type": "code",
   "execution_count": 91,
   "metadata": {},
   "outputs": [
    {
     "name": "stdout",
     "output_type": "stream",
     "text": [
      "Pi is   3.1416\n"
     ]
    }
   ],
   "source": [
    "print('Pi is {:8.4f}'.format(math.pi))"
   ]
  },
  {
   "cell_type": "code",
   "execution_count": 92,
   "metadata": {},
   "outputs": [
    {
     "name": "stdout",
     "output_type": "stream",
     "text": [
      "Pi is     3.14\n"
     ]
    }
   ],
   "source": [
    "print('Pi is {:8.2f}'.format(math.pi))"
   ]
  },
  {
   "cell_type": "markdown",
   "metadata": {},
   "source": [
    "Implementing `find` method by what we know untill now."
   ]
  },
  {
   "cell_type": "code",
   "execution_count": 96,
   "metadata": {},
   "outputs": [
    {
     "name": "stdout",
     "output_type": "stream",
     "text": [
      "Input a character to find: M\n",
      "Letter found at index:  0\n"
     ]
    }
   ],
   "source": [
    "river = 'Mississippi'\n",
    "target = input('Input a character to find: ')\n",
    "\n",
    "for index in range(len(river)):\n",
    "    if river[index] == target:\n",
    "        print('Letter found at index: ', index)\n",
    "        break\n",
    "else:\n",
    "    print('Letter', target, 'not found in', river)"
   ]
  },
  {
   "cell_type": "markdown",
   "metadata": {},
   "source": [
    "**Palindrome**"
   ]
  },
  {
   "cell_type": "code",
   "execution_count": 101,
   "metadata": {},
   "outputs": [
    {
     "name": "stdout",
     "output_type": "stream",
     "text": [
      "Forward: Madam, I'm Adam \n",
      "Backward: madA m'I ,madaM\n",
      "\n",
      "Forward: A man, a plan, a canal, Panama \n",
      "Backward: amanaP ,lanac a ,nalp a ,nam A\n"
     ]
    }
   ],
   "source": [
    "pal_1 = \"Madam, I'm Adam\"\n",
    "pal_2 = \"A man, a plan, a canal, Panama\"\n",
    "\n",
    "print('Forward: {} \\nBackward: {}'.format(pal_1, pal_1[::-1]))\n",
    "print()\n",
    "print('Forward: {} \\nBackward: {}'.format(pal_2, pal_2[::-1]))"
   ]
  },
  {
   "cell_type": "code",
   "execution_count": 102,
   "metadata": {},
   "outputs": [
    {
     "data": {
      "text/plain": [
       "'!\"#$%&\\'()*+,-./:;<=>?@[\\\\]^_`{|}~'"
      ]
     },
     "execution_count": 102,
     "metadata": {},
     "output_type": "execute_result"
    }
   ],
   "source": [
    "import string\n",
    "\n",
    "string.punctuation"
   ]
  },
  {
   "cell_type": "code",
   "execution_count": 103,
   "metadata": {},
   "outputs": [
    {
     "data": {
      "text/plain": [
       "'0123456789'"
      ]
     },
     "execution_count": 103,
     "metadata": {},
     "output_type": "execute_result"
    }
   ],
   "source": [
    "string.digits"
   ]
  },
  {
   "cell_type": "code",
   "execution_count": 106,
   "metadata": {},
   "outputs": [
    {
     "data": {
      "text/plain": [
       "'abcdefghijklmnopqrstuvwxyz'"
      ]
     },
     "execution_count": 106,
     "metadata": {},
     "output_type": "execute_result"
    }
   ],
   "source": [
    "string.ascii_lowercase"
   ]
  },
  {
   "cell_type": "code",
   "execution_count": 107,
   "metadata": {},
   "outputs": [
    {
     "data": {
      "text/plain": [
       "' \\t\\n\\r\\x0b\\x0c'"
      ]
     },
     "execution_count": 107,
     "metadata": {},
     "output_type": "execute_result"
    }
   ],
   "source": [
    "string.whitespace"
   ]
  },
  {
   "cell_type": "markdown",
   "metadata": {},
   "source": [
    "**More String Formatting**\n",
    "\n",
    "* `<` - left (default for most objects)\n",
    "* `>` - right (default for numbers)\n",
    "* `^` - center\n",
    "* `=` - force fill between sign and digits (numeric only)"
   ]
  },
  {
   "cell_type": "code",
   "execution_count": 109,
   "metadata": {},
   "outputs": [
    {
     "name": "stdout",
     "output_type": "stream",
     "text": [
      "....... abc  | +000000035 | ---22\n"
     ]
    }
   ],
   "source": [
    "print('{0:.>12s} | {1:0=+10d} | {2:->5d}'.format(' abc ',35,22))"
   ]
  },
  {
   "cell_type": "code",
   "execution_count": null,
   "metadata": {},
   "outputs": [],
   "source": []
  },
  {
   "cell_type": "code",
   "execution_count": null,
   "metadata": {},
   "outputs": [],
   "source": []
  },
  {
   "cell_type": "code",
   "execution_count": null,
   "metadata": {},
   "outputs": [],
   "source": []
  },
  {
   "cell_type": "code",
   "execution_count": null,
   "metadata": {},
   "outputs": [],
   "source": []
  },
  {
   "cell_type": "code",
   "execution_count": null,
   "metadata": {},
   "outputs": [],
   "source": []
  },
  {
   "cell_type": "code",
   "execution_count": null,
   "metadata": {},
   "outputs": [],
   "source": []
  }
 ],
 "metadata": {
  "kernelspec": {
   "display_name": "Python 3",
   "language": "python",
   "name": "python3"
  },
  "language_info": {
   "codemirror_mode": {
    "name": "ipython",
    "version": 3
   },
   "file_extension": ".py",
   "mimetype": "text/x-python",
   "name": "python",
   "nbconvert_exporter": "python",
   "pygments_lexer": "ipython3",
   "version": "3.7.3"
  }
 },
 "nbformat": 4,
 "nbformat_minor": 2
}
