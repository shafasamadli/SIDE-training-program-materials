{
 "cells": [
  {
   "cell_type": "markdown",
   "metadata": {},
   "source": [
    "What is the dictionary data structure? A dictionary is a collection, but it is `not a sequence`. A dictionary is often referred to as a `map collection`, also sometimes as an associative array. You can think of a dictionary as a list of pairs, where the ﬁrst element of each pair is the key and the second element of each pair is the value. A dictionary is designed so that a search for a key, and subsequently its associated value, is very efﬁcient. The word map comes from this association: the key maps to the value.\n",
    "\n",
    "All operations on dictionaries are built to work through keys. The data structure is called a dictionary because of its similarity to a real dictionary, such as Webster’s dictionary. Think of the keys as the words in Webster’s dictionary. It is easy to look up a word (the key) because of the organization of Webster’s dictionary (alphabetical). Once the key is found, the associated value, the deﬁnition, is clearly indicated. Note that the opposite search, a search for the the value (i.e., the deﬁnition), is not easily done. Imagine trying to ﬁnd a deﬁnition without the associated word (key) in Webster’s dictionary. It is only possible by examining every deﬁnition in the whole dictionary from beginning to end—not very efﬁcient! Dictionaries, both the data structure and Webster’s, are optimized to work with keys. However, the dictionary data structure and Webster’s are different in one important way: Webster’s key organization is based on an alphabetical (sequential) ordering of the keys. In a Python dictionary, keys are arranged to make searching go quickly, not necessarily sequentially. Furthermore, the arrangement is hidden from the user. As a result, you cannot print a dictionary collection and count on a particular order. As new key-value pairs are added, the dictionary is modiﬁed to make key searching efﬁcient for Python."
   ]
  },
  {
   "cell_type": "markdown",
   "metadata": {},
   "source": [
    "A list can be created by either the constructor `list` or a shortcut, the square brackets `[]`. Dictionaries also have a constructor, called `dict`, and have a shortcut, curly braces: . Like lists, curly braces are often used, although, as with lists, there are applications for the dict constructor. When designating the contents of a dictionary, the individual key-value pairs are separated by a colon `:`. Values may be anything, but **keys can only be immutable objects** such as `integers, strings, or tuples`. In this session, we create a contacts dictionary, display it, get a number for `bill` and add a contact for “barb.” Note the unordered nature of a dictionary when printed: it is not kept in any apparent order—not even the order of the key-value pair’s creation."
   ]
  },
  {
   "cell_type": "code",
   "execution_count": 1,
   "metadata": {},
   "outputs": [
    {
     "data": {
      "text/plain": [
       "{'bill': '353-1234', 'rich': '269-1234', 'jane': '352-1234'}"
      ]
     },
     "execution_count": 1,
     "metadata": {},
     "output_type": "execute_result"
    }
   ],
   "source": [
    "# create contacts\n",
    "contacts = {'bill':'353-1234', 'rich':'269-1234', 'jane':'352-1234'}\n",
    "\n",
    "contacts"
   ]
  },
  {
   "cell_type": "code",
   "execution_count": 3,
   "metadata": {},
   "outputs": [
    {
     "data": {
      "text/plain": [
       "'353-1234'"
      ]
     },
     "execution_count": 3,
     "metadata": {},
     "output_type": "execute_result"
    }
   ],
   "source": [
    "contacts['bill'] # get contact info for 'bill'"
   ]
  },
  {
   "cell_type": "code",
   "execution_count": 4,
   "metadata": {},
   "outputs": [],
   "source": [
    "contacts['bill'] = '271-1234'"
   ]
  },
  {
   "cell_type": "code",
   "execution_count": 5,
   "metadata": {},
   "outputs": [
    {
     "data": {
      "text/plain": [
       "{'bill': '271-1234', 'rich': '269-1234', 'jane': '352-1234'}"
      ]
     },
     "execution_count": 5,
     "metadata": {},
     "output_type": "execute_result"
    }
   ],
   "source": [
    "contacts"
   ]
  },
  {
   "cell_type": "markdown",
   "metadata": {},
   "source": [
    "A list can be created by either the constructor `list` or a shortcut, the square brackets `[]`. Dictionaries also have a constructor, called `dict`, and have a shortcut, curly braces: . Like lists, curly braces are often used, although, as with lists, there are applications for the dict constructor. When designating the contents of a dictionary, the individual key-value pairs are separated by a colon `:`. Values may be anything, but **keys can only be immutable objects** such as `integers, strings, or tuples`. In this session, we create a contacts dictionary, display it, get a number for `bill` and add a contact for “barb.” Note the unordered nature of a dictionary when printed: it is not kept in any apparent order—not even the order of the key-value pair’s creation."
   ]
  },
  {
   "cell_type": "markdown",
   "metadata": {},
   "source": [
    "**Dictionary Indexing and Assignment**\n",
    "\n",
    "Dictionaries are collections that respond to the index operator: `[]`. However, we do not use a sequence number (0 for the ﬁrst element, -1 for the last, etc.) as we did with other collections. Instead, we use the key as the index value.\n",
    "\n",
    "`Dictionaries are Mutable`\n",
    "\n",
    "Because we can do index assignment in a dictionary, a dictionary is our second example of a mutable data structure (the ﬁrst was a list). In addition to index assignment, dictionaries have a number of methods that change the dictionary in place. As with lists, there are potential consequences to passing a mutable object to functions. If a dictionary is modiﬁed in a function, it is modiﬁed in the calling program. You will see examples of mutable methods later in this chapter.\n",
    "\n",
    "`Dictionaries with different Key Types`\n",
    "\n",
    "The power of dictionaries is a combination of its indexing speed and the fact that the value can be any data structure, even another dictionary. Furthermore, different types of keys can be used in the same dictionary as long as they are immutable types. In the next session, we create a dictionary with keys that are `ints, tuples, strs`. Of particular note is that the values are `lists, ints, and dicts`. We then show access using each key, followed at the end by accessing an element of the dictionary value contained in our dictionary. As with previous chained expressions, they proceed from left to right.\n",
    "\n",
    "```python\n",
    "some_dict = {}\n",
    "another_dict = dict()\n",
    "```"
   ]
  },
  {
   "cell_type": "code",
   "execution_count": 6,
   "metadata": {},
   "outputs": [
    {
     "data": {
      "text/plain": [
       "{2: ['a', 'b', 'c'], (2, 4): 27, 'x': {1: 2.5, 'a': 3}}"
      ]
     },
     "execution_count": 6,
     "metadata": {},
     "output_type": "execute_result"
    }
   ],
   "source": [
    "demo = {2:['a', 'b', 'c'], (2,4):27, 'x':{1:2.5, 'a':3}}\n",
    "demo"
   ]
  },
  {
   "cell_type": "code",
   "execution_count": 7,
   "metadata": {},
   "outputs": [
    {
     "data": {
      "text/plain": [
       "['a', 'b', 'c']"
      ]
     },
     "execution_count": 7,
     "metadata": {},
     "output_type": "execute_result"
    }
   ],
   "source": [
    "demo[2]"
   ]
  },
  {
   "cell_type": "code",
   "execution_count": 8,
   "metadata": {},
   "outputs": [
    {
     "data": {
      "text/plain": [
       "27"
      ]
     },
     "execution_count": 8,
     "metadata": {},
     "output_type": "execute_result"
    }
   ],
   "source": [
    "demo[(2,4)]"
   ]
  },
  {
   "cell_type": "code",
   "execution_count": 9,
   "metadata": {},
   "outputs": [
    {
     "data": {
      "text/plain": [
       "{1: 2.5, 'a': 3}"
      ]
     },
     "execution_count": 9,
     "metadata": {},
     "output_type": "execute_result"
    }
   ],
   "source": [
    "demo['x']"
   ]
  },
  {
   "cell_type": "markdown",
   "metadata": {},
   "source": [
    "**Operators**\n",
    "\n",
    "* `[]`: indexing using the key as the index value\n",
    "* `len()`: the “length” is the number of key-value pairs in the dictionary\n",
    "* `in`: Boolean test of membership; is the key in the dictionary (not the value)?\n",
    "* `for`: iteration through keys in the dictionary\n",
    "\n",
    "Things to note, especially given the focus of dictionary operations on keys:\n",
    "\n",
    "* The length operator measures the number of key-value pairs (or, if you prefer, the number of keys).\n",
    "* The membership operation is an operation on keys, not values.\n",
    "* Iteration yields the keys in the dictionary.\n"
   ]
  },
  {
   "cell_type": "code",
   "execution_count": 10,
   "metadata": {},
   "outputs": [
    {
     "data": {
      "text/plain": [
       "{'a': 2, 3: ['x', 'y'], 'joe': 'smith'}"
      ]
     },
     "execution_count": 10,
     "metadata": {},
     "output_type": "execute_result"
    }
   ],
   "source": [
    "my_dict = {'a':2, 3:['x', 'y'], 'joe':'smith'}\n",
    "my_dict"
   ]
  },
  {
   "cell_type": "code",
   "execution_count": 11,
   "metadata": {},
   "outputs": [
    {
     "data": {
      "text/plain": [
       "2"
      ]
     },
     "execution_count": 11,
     "metadata": {},
     "output_type": "execute_result"
    }
   ],
   "source": [
    "my_dict['a']"
   ]
  },
  {
   "cell_type": "code",
   "execution_count": 12,
   "metadata": {},
   "outputs": [
    {
     "data": {
      "text/plain": [
       "3"
      ]
     },
     "execution_count": 12,
     "metadata": {},
     "output_type": "execute_result"
    }
   ],
   "source": [
    "len(my_dict)"
   ]
  },
  {
   "cell_type": "code",
   "execution_count": 13,
   "metadata": {},
   "outputs": [
    {
     "data": {
      "text/plain": [
       "True"
      ]
     },
     "execution_count": 13,
     "metadata": {},
     "output_type": "execute_result"
    }
   ],
   "source": [
    "'a' in my_dict"
   ]
  },
  {
   "cell_type": "code",
   "execution_count": 14,
   "metadata": {},
   "outputs": [
    {
     "data": {
      "text/plain": [
       "False"
      ]
     },
     "execution_count": 14,
     "metadata": {},
     "output_type": "execute_result"
    }
   ],
   "source": [
    "2 in my_dict"
   ]
  },
  {
   "cell_type": "code",
   "execution_count": 15,
   "metadata": {},
   "outputs": [
    {
     "name": "stdout",
     "output_type": "stream",
     "text": [
      "a\n",
      "3\n",
      "joe\n"
     ]
    }
   ],
   "source": [
    "for key in my_dict:\n",
    "    print(key)"
   ]
  },
  {
   "cell_type": "code",
   "execution_count": 16,
   "metadata": {},
   "outputs": [
    {
     "name": "stdout",
     "output_type": "stream",
     "text": [
      "a 2\n",
      "3 ['x', 'y']\n",
      "joe smith\n"
     ]
    }
   ],
   "source": [
    "for key in my_dict:\n",
    "    print(key, my_dict[key])"
   ]
  },
  {
   "cell_type": "markdown",
   "metadata": {},
   "source": [
    "**Dictionary Methods**\n",
    "\n",
    "Given the default behavior of dictionary iteration on keys, Python provides a number of other methods that allow the programmer to iterate through other dictionary elements:\n",
    "\n",
    "* `items()`: all the key-value pairs as a list of tuples\n",
    "* `keys()`: all the keys as a list\n",
    "* `values()`: all the values as a list\n"
   ]
  },
  {
   "cell_type": "code",
   "execution_count": 17,
   "metadata": {},
   "outputs": [
    {
     "name": "stdout",
     "output_type": "stream",
     "text": [
      "Key: a      , Value: 2\n",
      "Key: 3      , Value: ['x', 'y']\n",
      "Key: joe    , Value: smith\n"
     ]
    }
   ],
   "source": [
    "my_dict = {'a':2, 3:['x', 'y'], 'joe':'smith'}\n",
    "\n",
    "for key, value in my_dict.items():\n",
    "    print('Key: {:<7}, Value: {}'.format(key, value))"
   ]
  },
  {
   "cell_type": "code",
   "execution_count": 18,
   "metadata": {},
   "outputs": [
    {
     "name": "stdout",
     "output_type": "stream",
     "text": [
      "a\n",
      "3\n",
      "joe\n"
     ]
    }
   ],
   "source": [
    "for key in my_dict.keys():\n",
    "    print(key)"
   ]
  },
  {
   "cell_type": "code",
   "execution_count": 19,
   "metadata": {},
   "outputs": [
    {
     "data": {
      "text/plain": [
       "dict_values([2, ['x', 'y'], 'smith'])"
      ]
     },
     "execution_count": 19,
     "metadata": {},
     "output_type": "execute_result"
    }
   ],
   "source": [
    "dict_value_view = my_dict.values()\n",
    "dict_value_view"
   ]
  },
  {
   "cell_type": "code",
   "execution_count": 21,
   "metadata": {},
   "outputs": [
    {
     "data": {
      "text/plain": [
       "dict_values"
      ]
     },
     "execution_count": 21,
     "metadata": {},
     "output_type": "execute_result"
    }
   ],
   "source": [
    "type(dict_value_view) # view type"
   ]
  },
  {
   "cell_type": "code",
   "execution_count": 22,
   "metadata": {},
   "outputs": [
    {
     "name": "stdout",
     "output_type": "stream",
     "text": [
      "2\n",
      "['x', 'y']\n",
      "smith\n"
     ]
    }
   ],
   "source": [
    "for val in dict_value_view:\n",
    "    print(val)"
   ]
  },
  {
   "cell_type": "code",
   "execution_count": 23,
   "metadata": {},
   "outputs": [],
   "source": [
    "my_dict['new_key'] = 'new_value'"
   ]
  },
  {
   "cell_type": "code",
   "execution_count": 25,
   "metadata": {},
   "outputs": [
    {
     "data": {
      "text/plain": [
       "dict_values([2, ['x', 'y'], 'smith', 'new_value'])"
      ]
     },
     "execution_count": 25,
     "metadata": {},
     "output_type": "execute_result"
    }
   ],
   "source": [
    "dict_value_view # view updated"
   ]
  },
  {
   "cell_type": "markdown",
   "metadata": {},
   "source": [
    "These three methods allow us to iterate through the dictionary, yielding keys-value pairs (each as a separate item), only keys, or only values. As with ranges, if you type an invocation of one of those methods you get an “odd” type back. Not a list, but one of `dict_values`, `dict_keys`. Python calls these types view objects. View objects have a couple of interesting properties.\n",
    "\n",
    "* A view object is iterable. Thus we can use them in a for loop.\n",
    "* Though the order of keys and values in a dictionary cannot be determined, views of keys and values will correspond. That is, whatever the order of the key view is, the value view will have the same order (the elements of the key view and the value view match as found in the dictionary).\n",
    "* View objects are dynamic. Once assigned, if the dictionary is updated in some way, the view object reﬂects that update.\n",
    "\n",
    "Because the items iterator generates tuples, we can assign two values for every iteration of the `for` loop: the ﬁrst element is the key of the pair and the second is the value (similar to enumerate).\n",
    "Dictionaries have a copy method. The copy method makes a shallow copy of the dictionary values. This means that keys are copied properly (as they must be immutable), but if the values are mutable, problems such as we have seen before can arise. See the following session."
   ]
  },
  {
   "cell_type": "code",
   "execution_count": 26,
   "metadata": {},
   "outputs": [
    {
     "data": {
      "text/plain": [
       "{'a': 2, 3: ['x', 'y'], 'joe': 'smith'}"
      ]
     },
     "execution_count": 26,
     "metadata": {},
     "output_type": "execute_result"
    }
   ],
   "source": [
    "my_dict = {'a':2, 3:['x', 'y'], 'joe':'smith'}\n",
    "\n",
    "new_dict = my_dict.copy() # shallow copy\n",
    "new_dict['a'] = 'new_value'\n",
    "my_dict"
   ]
  },
  {
   "cell_type": "code",
   "execution_count": 28,
   "metadata": {},
   "outputs": [
    {
     "data": {
      "text/plain": [
       "{'a': 'new_value', 3: ['x', 'y'], 'joe': 'smith'}"
      ]
     },
     "execution_count": 28,
     "metadata": {},
     "output_type": "execute_result"
    }
   ],
   "source": [
    "new_dict # my_dict unchanged a mutable list"
   ]
  },
  {
   "cell_type": "code",
   "execution_count": 29,
   "metadata": {},
   "outputs": [
    {
     "data": {
      "text/plain": [
       "['x', 'y']"
      ]
     },
     "execution_count": 29,
     "metadata": {},
     "output_type": "execute_result"
    }
   ],
   "source": [
    "a_value = new_dict[3]\n",
    "a_value"
   ]
  },
  {
   "cell_type": "code",
   "execution_count": 30,
   "metadata": {},
   "outputs": [
    {
     "data": {
      "text/plain": [
       "{'a': 'new_value', 3: ['new_element', 'y'], 'joe': 'smith'}"
      ]
     },
     "execution_count": 30,
     "metadata": {},
     "output_type": "execute_result"
    }
   ],
   "source": [
    "a_value[0] = 'new_element' # update list copy changed\n",
    "new_dict"
   ]
  },
  {
   "cell_type": "code",
   "execution_count": 31,
   "metadata": {},
   "outputs": [
    {
     "data": {
      "text/plain": [
       "{'a': 2, 3: ['new_element', 'y'], 'joe': 'smith'}"
      ]
     },
     "execution_count": 31,
     "metadata": {},
     "output_type": "execute_result"
    }
   ],
   "source": [
    "my_dict # original changed"
   ]
  },
  {
   "cell_type": "markdown",
   "metadata": {},
   "source": [
    "Count frequency of the words."
   ]
  },
  {
   "cell_type": "markdown",
   "metadata": {},
   "source": [
    "```python\n",
    "\n",
    "word_list = 'to be or not to be'.split(' ')\n",
    "\n",
    "count_dict = {}\n",
    "for word in word_list:\n",
    "    if word in count_dict:\n",
    "        count_dict[word] += 1\n",
    "    else:\n",
    "        count_dict[word] = 1\n",
    "```\n",
    "\n",
    "```python\n",
    "count_dict = {}\n",
    "for word in word_list:\n",
    "    try:\n",
    "        count_dict[word] += 1\n",
    "    except:\n",
    "        count_dict[word] = 1\n",
    "```\n",
    "\n",
    "```python\n",
    "count_dict = {}\n",
    "for word in word_list:\n",
    "    count_dict[word] = count_dict.get(word, 0) + 1\n",
    "```"
   ]
  },
  {
   "cell_type": "code",
   "execution_count": null,
   "metadata": {},
   "outputs": [],
   "source": []
  },
  {
   "cell_type": "markdown",
   "metadata": {},
   "source": [
    "# `Sets`\n",
    "\n",
    "**History**\n",
    "\n",
    "Sets were invented by Georg Cantor, a German mathematician, in the late 1800s. Though not old by the standards of math, sets have become an integral part of mathematical theory and have revolutionized many aspects of mathematics. In spite of their power, the main concepts are so simple that they can be taught at an early age.\n",
    "\n",
    "A `set` is a collection of objects, regardless of the objects’ types. These are the `elements` or `members` of the set. Only **one copy** of any element may exist in the set—a useful characteristic. There is no order to the elements in the set, thus it is, like a dictionary, not a sequence. A set with no elements is the “empty set,” also known as the “null set.” A set is an iterable, as are all the collections we have seen.\n",
    "\n",
    "A set is created by calling the set constructor or using curly braces and commas. The use of curly braces as a way to construct a set can be a bit confusing, as it looks much like the way to construct a dictionary. How to tell them apart? When making a dictionary, the elements are of the form `key:value`, where the `colon(:)` separates the key from the value. In a set, there is only a list of comma-separated elements. That is how you may tell the two data structure constructors apart, by the form of their elements.\n",
    "\n",
    "Furthermore, since empty curly braces are used to create an empty dictionary, you must use the set constructor to specify an empty set: `set()`. "
   ]
  },
  {
   "cell_type": "code",
   "execution_count": 32,
   "metadata": {},
   "outputs": [
    {
     "data": {
      "text/plain": [
       "set()"
      ]
     },
     "execution_count": 32,
     "metadata": {},
     "output_type": "execute_result"
    }
   ],
   "source": [
    "null_set = set() # set() creates the empty set\n",
    "null_set"
   ]
  },
  {
   "cell_type": "code",
   "execution_count": 33,
   "metadata": {},
   "outputs": [
    {
     "data": {
      "text/plain": [
       "{1, 2, 3, 4}"
      ]
     },
     "execution_count": 33,
     "metadata": {},
     "output_type": "execute_result"
    }
   ],
   "source": [
    "a_set = {1, 2, 3, 4} # no colons means set\n",
    "a_set"
   ]
  },
  {
   "cell_type": "code",
   "execution_count": 34,
   "metadata": {},
   "outputs": [
    {
     "data": {
      "text/plain": [
       "{1, 2}"
      ]
     },
     "execution_count": 34,
     "metadata": {},
     "output_type": "execute_result"
    }
   ],
   "source": [
    "b_set = {1, 1, 2, 2, 2} # duplicates are ignored\n",
    "b_set"
   ]
  },
  {
   "cell_type": "code",
   "execution_count": 35,
   "metadata": {},
   "outputs": [
    {
     "data": {
      "text/plain": [
       "{(5, 6), 1, 2.5, 'a'}"
      ]
     },
     "execution_count": 35,
     "metadata": {},
     "output_type": "execute_result"
    }
   ],
   "source": [
    "c_set = {'a', 1, 2.5, (5, 6)} # different types is OK\n",
    "c_set"
   ]
  },
  {
   "cell_type": "code",
   "execution_count": 36,
   "metadata": {},
   "outputs": [
    {
     "data": {
      "text/plain": [
       "{'a', 'b', 'c', 'd'}"
      ]
     },
     "execution_count": 36,
     "metadata": {},
     "output_type": "execute_result"
    }
   ],
   "source": [
    "a_set = set(\"abcd\") # set constructed from iterable\n",
    "a_set"
   ]
  },
  {
   "cell_type": "markdown",
   "metadata": {},
   "source": [
    "**Python Sets Are Mutable**\n",
    "\n",
    "\n",
    "Like lists and dictionaries, sets are mutable data structures. Though index assignment is not possible on a set (it isn’t a sequence), various methods of the set (such as add or remove) change the elements of a set."
   ]
  },
  {
   "cell_type": "markdown",
   "metadata": {},
   "source": [
    "**Methods, Operators and Functions for Python Sets**\n",
    "\n",
    "* `len()` Like all collections, you can determine the number of elements in a set using the len function.\n",
    "* `in` Is an element in the set? The in operator tests membership and returns a Boolean True or False depending on whether the element is or is not a member of the set.\n",
    "* `for` Like all collections, you can iterate through the elements of a set using the for statement. The order of the iteration through the objects is not known, as sets have no order.\n"
   ]
  },
  {
   "cell_type": "code",
   "execution_count": 37,
   "metadata": {},
   "outputs": [
    {
     "data": {
      "text/plain": [
       "6"
      ]
     },
     "execution_count": 37,
     "metadata": {},
     "output_type": "execute_result"
    }
   ],
   "source": [
    "my_set = {'a', 'c', 'b', 1, 4, 2}\n",
    "\n",
    "len(my_set)"
   ]
  },
  {
   "cell_type": "code",
   "execution_count": 38,
   "metadata": {},
   "outputs": [
    {
     "data": {
      "text/plain": [
       "True"
      ]
     },
     "execution_count": 38,
     "metadata": {},
     "output_type": "execute_result"
    }
   ],
   "source": [
    "'a' in my_set"
   ]
  },
  {
   "cell_type": "code",
   "execution_count": 39,
   "metadata": {},
   "outputs": [
    {
     "data": {
      "text/plain": [
       "False"
      ]
     },
     "execution_count": 39,
     "metadata": {},
     "output_type": "execute_result"
    }
   ],
   "source": [
    "'z' in my_set"
   ]
  },
  {
   "cell_type": "code",
   "execution_count": 40,
   "metadata": {},
   "outputs": [
    {
     "name": "stdout",
     "output_type": "stream",
     "text": [
      "1 2 4 a b c "
     ]
    }
   ],
   "source": [
    "for element in my_set:\n",
    "    print(element, end=' ')"
   ]
  },
  {
   "cell_type": "markdown",
   "metadata": {},
   "source": [
    "**Set Methods**\n",
    "\n",
    "Python implements the typical mathematical set operations. There are two ways to call each of these operations: using a method or using a binary operator. The results of either approach are the same, though there is some difference in the way they are used. We note in the explanation of each operation that some are commutative and some are not—that is, the order of the operation may or may not matter. The binary operators for set operations are `&, |, -, ˆ, <=, >=`. Each binary operator takes two sets with  an  intervening operator, such as a set & b set. The methods available are `intersection, union, difference and symmetric difference, issubset, issuperset`. For these methods, a set calls the method (using the dot notation) with another collection as the argument. One difference between the binary operators and methods are that the methods approach allows the argument to be any iterable collection. The binary operators require both arguments to be sets. Readability is an issue as well. The methods approach makes it clear what operation is being performed, though the method names are rather long. The binary operator approach is short but can be difﬁcult to read if you are not familiar with the meaning of the binary operator symbols. We will tend to use the methods approach because of the clarity of the method names.\n"
   ]
  },
  {
   "cell_type": "markdown",
   "metadata": {},
   "source": [
    "`Intersection`\n",
    "\n",
    "Intersection is done using the `&` operator or the intersection method. This operation creates a new set of the elements that are common to both sets."
   ]
  },
  {
   "cell_type": "code",
   "execution_count": 41,
   "metadata": {},
   "outputs": [
    {
     "data": {
      "text/plain": [
       "{2, 3}"
      ]
     },
     "execution_count": 41,
     "metadata": {},
     "output_type": "execute_result"
    }
   ],
   "source": [
    "a_set = {1, 2, 3, 4}\n",
    "b_set = {2, 3, 5, 6}"
   ]
  },
  {
   "cell_type": "code",
   "execution_count": 43,
   "metadata": {},
   "outputs": [
    {
     "data": {
      "text/plain": [
       "{2, 3}"
      ]
     },
     "execution_count": 43,
     "metadata": {},
     "output_type": "execute_result"
    }
   ],
   "source": [
    "a_set & b_set"
   ]
  },
  {
   "cell_type": "code",
   "execution_count": 42,
   "metadata": {},
   "outputs": [
    {
     "data": {
      "text/plain": [
       "{2, 3}"
      ]
     },
     "execution_count": 42,
     "metadata": {},
     "output_type": "execute_result"
    }
   ],
   "source": [
    "b_set & a_set"
   ]
  },
  {
   "cell_type": "code",
   "execution_count": 45,
   "metadata": {},
   "outputs": [
    {
     "data": {
      "text/plain": [
       "{2, 3}"
      ]
     },
     "execution_count": 45,
     "metadata": {},
     "output_type": "execute_result"
    }
   ],
   "source": [
    "a_set.intersection(b_set) # method approach"
   ]
  },
  {
   "cell_type": "markdown",
   "metadata": {},
   "source": [
    "`Union`\n",
    "\n",
    "Union is done using the `|` operator or the union method. Union creates a new set that contains all the elements in both sets."
   ]
  },
  {
   "cell_type": "code",
   "execution_count": 47,
   "metadata": {},
   "outputs": [
    {
     "data": {
      "text/plain": [
       "{1, 2, 3, 4, 5, 6}"
      ]
     },
     "execution_count": 47,
     "metadata": {},
     "output_type": "execute_result"
    }
   ],
   "source": [
    "a_set | b_set # union of all elements"
   ]
  },
  {
   "cell_type": "code",
   "execution_count": 48,
   "metadata": {},
   "outputs": [
    {
     "data": {
      "text/plain": [
       "{1, 2, 3, 4, 5, 6}"
      ]
     },
     "execution_count": 48,
     "metadata": {},
     "output_type": "execute_result"
    }
   ],
   "source": [
    "b_set | a_set # commutative order doesn't matter"
   ]
  },
  {
   "cell_type": "code",
   "execution_count": 49,
   "metadata": {},
   "outputs": [
    {
     "data": {
      "text/plain": [
       "{1, 2, 3, 4, 5, 6}"
      ]
     },
     "execution_count": 49,
     "metadata": {},
     "output_type": "execute_result"
    }
   ],
   "source": [
    "a_set.union(b_set) # method approach"
   ]
  },
  {
   "cell_type": "code",
   "execution_count": 50,
   "metadata": {},
   "outputs": [
    {
     "data": {
      "text/plain": [
       "{1, 2, 3, 4, 5}"
      ]
     },
     "execution_count": 50,
     "metadata": {},
     "output_type": "execute_result"
    }
   ],
   "source": [
    "a_set.union([3, 4, 5, 1])"
   ]
  },
  {
   "cell_type": "markdown",
   "metadata": {},
   "source": [
    "`Difference`\n",
    "\n",
    "Difference is done using the - operator or the difference method. Difference creates a new set whose elements are in the ﬁrst (calling) set and **not** in the second (argument) set. Unlike the other set operators, the difference operator is not `commutative`."
   ]
  },
  {
   "cell_type": "code",
   "execution_count": 51,
   "metadata": {},
   "outputs": [],
   "source": [
    "a_set = {'a', 'b', 'c', 'd'}\n",
    "b_set = {'c', 'd', 'e', 'f'}"
   ]
  },
  {
   "cell_type": "code",
   "execution_count": 52,
   "metadata": {},
   "outputs": [
    {
     "data": {
      "text/plain": [
       "{'a', 'b'}"
      ]
     },
     "execution_count": 52,
     "metadata": {},
     "output_type": "execute_result"
    }
   ],
   "source": [
    "a_set - b_set # elements of a_set that are not in b_set"
   ]
  },
  {
   "cell_type": "code",
   "execution_count": 55,
   "metadata": {},
   "outputs": [
    {
     "data": {
      "text/plain": [
       "{'e', 'f'}"
      ]
     },
     "execution_count": 55,
     "metadata": {},
     "output_type": "execute_result"
    }
   ],
   "source": [
    "b_set - a_set # order matthers!"
   ]
  },
  {
   "cell_type": "code",
   "execution_count": 56,
   "metadata": {},
   "outputs": [
    {
     "data": {
      "text/plain": [
       "{'a', 'b'}"
      ]
     },
     "execution_count": 56,
     "metadata": {},
     "output_type": "execute_result"
    }
   ],
   "source": [
    "a_set.difference(b_set) # method approach"
   ]
  },
  {
   "cell_type": "code",
   "execution_count": 57,
   "metadata": {},
   "outputs": [
    {
     "data": {
      "text/plain": [
       "{'a', 'b'}"
      ]
     },
     "execution_count": 57,
     "metadata": {},
     "output_type": "execute_result"
    }
   ],
   "source": [
    "a_set.difference('cdef') # string interable as an argument"
   ]
  },
  {
   "cell_type": "markdown",
   "metadata": {},
   "source": [
    "**Symmetric Difference**\n",
    "\n",
    "This symmetric difference operation might be new to you. Essentially, symmetric difference is the opposite of intersection. It creates a new set of values that are `different`,  not in either of the two sets. The symmetric difference operator is `ˆ` and the method is `symmetric_difference`. The order of the sets does not matter."
   ]
  },
  {
   "cell_type": "code",
   "execution_count": 59,
   "metadata": {},
   "outputs": [
    {
     "data": {
      "text/plain": [
       "{'a', 'b', 'e', 'f'}"
      ]
     },
     "execution_count": 59,
     "metadata": {},
     "output_type": "execute_result"
    }
   ],
   "source": [
    "b_set ^ a_set # unique elements in the sets"
   ]
  },
  {
   "cell_type": "code",
   "execution_count": 61,
   "metadata": {},
   "outputs": [
    {
     "data": {
      "text/plain": [
       "{'a', 'b', 'e', 'f'}"
      ]
     },
     "execution_count": 61,
     "metadata": {},
     "output_type": "execute_result"
    }
   ],
   "source": [
    "a_set ^ b_set # order doesn't matter"
   ]
  },
  {
   "cell_type": "code",
   "execution_count": 62,
   "metadata": {},
   "outputs": [
    {
     "data": {
      "text/plain": [
       "{'a', 'b', 'e', 'f'}"
      ]
     },
     "execution_count": 62,
     "metadata": {},
     "output_type": "execute_result"
    }
   ],
   "source": [
    "a_set.symmetric_difference(b_set) # method approach"
   ]
  },
  {
   "cell_type": "markdown",
   "metadata": {},
   "source": [
    "**Subset and Superset**\n",
    "\n",
    "The concept of `subset` and `superset` should be familiar. A set is a subset of another set only if every element of the ﬁrst set is an element of the second set. Superset is the reversed concept: set A is a superset of set B only if set B is a subset of set A. Clearly, the order of set operation matters in these operations; i.e., it is not commutative. A set is both a subset and a superset of itself. The subset operator is `<=` and the superset operator is `>=`. The method names are `issubset` and `issuperset`. All four of these operations return a `Boolean` value."
   ]
  },
  {
   "cell_type": "code",
   "execution_count": 63,
   "metadata": {},
   "outputs": [],
   "source": [
    "small_set = {'a', 'b', 'c'}\n",
    "big_set = set('abcdef')"
   ]
  },
  {
   "cell_type": "code",
   "execution_count": 64,
   "metadata": {},
   "outputs": [
    {
     "data": {
      "text/plain": [
       "True"
      ]
     },
     "execution_count": 64,
     "metadata": {},
     "output_type": "execute_result"
    }
   ],
   "source": [
    "small_set <= big_set # subset"
   ]
  },
  {
   "cell_type": "code",
   "execution_count": 65,
   "metadata": {},
   "outputs": [
    {
     "data": {
      "text/plain": [
       "True"
      ]
     },
     "execution_count": 65,
     "metadata": {},
     "output_type": "execute_result"
    }
   ],
   "source": [
    "big_set >= small_set # superset"
   ]
  },
  {
   "cell_type": "code",
   "execution_count": 66,
   "metadata": {},
   "outputs": [
    {
     "data": {
      "text/plain": [
       "True"
      ]
     },
     "execution_count": 66,
     "metadata": {},
     "output_type": "execute_result"
    }
   ],
   "source": [
    "big_set <= big_set # set is a sub of itself"
   ]
  },
  {
   "cell_type": "code",
   "execution_count": 67,
   "metadata": {},
   "outputs": [
    {
     "data": {
      "text/plain": [
       "True"
      ]
     },
     "execution_count": 67,
     "metadata": {},
     "output_type": "execute_result"
    }
   ],
   "source": [
    "small_set.issubset('abcdef') # string iteratble as argument"
   ]
  },
  {
   "cell_type": "markdown",
   "metadata": {},
   "source": [
    "**Other Set Methods**\n",
    "\n",
    "* `add(element)` Adds the element to the set. There is no effect if the element is already in the set (remember, only one copy of an element in a set). It modiﬁes the set, so there is no return value.\n",
    "* `clear()` Removes all the elements of the set (making it empty).\n",
    "* `remove(element)` and `discard(element)` Both methods remove the element if it exists. The difference is that remove will cause an error if the element being removed is not part of the set. In contrast, discard will not give an error even if the argument being removed does not exist in the set. There is no value returned.\n",
    "* `copy()` Returns a shallow copy of the set.\n"
   ]
  },
  {
   "cell_type": "code",
   "execution_count": 77,
   "metadata": {},
   "outputs": [
    {
     "data": {
      "text/plain": [
       "{'a', 'e', 'h', 'l', 'u'}"
      ]
     },
     "execution_count": 77,
     "metadata": {},
     "output_type": "execute_result"
    }
   ],
   "source": [
    "my_set = set('haleluaa')\n",
    "my_set"
   ]
  },
  {
   "cell_type": "code",
   "execution_count": 74,
   "metadata": {},
   "outputs": [
    {
     "data": {
      "text/plain": [
       "{'a', 'd', 'e', 'h', 'l', 'u'}"
      ]
     },
     "execution_count": 74,
     "metadata": {},
     "output_type": "execute_result"
    }
   ],
   "source": [
    "my_set.add('d')\n",
    "my_set"
   ]
  },
  {
   "cell_type": "code",
   "execution_count": 78,
   "metadata": {},
   "outputs": [
    {
     "data": {
      "text/plain": [
       "{'e', 'h', 'l', 'u'}"
      ]
     },
     "execution_count": 78,
     "metadata": {},
     "output_type": "execute_result"
    }
   ],
   "source": [
    "my_set.remove('a')\n",
    "my_set"
   ]
  },
  {
   "cell_type": "code",
   "execution_count": 79,
   "metadata": {},
   "outputs": [
    {
     "data": {
      "text/plain": [
       "{'e', 'h', 'l', 'u'}"
      ]
     },
     "execution_count": 79,
     "metadata": {},
     "output_type": "execute_result"
    }
   ],
   "source": [
    "copy_set = my_set.copy()\n",
    "copy_set"
   ]
  },
  {
   "cell_type": "code",
   "execution_count": 80,
   "metadata": {},
   "outputs": [
    {
     "data": {
      "text/plain": [
       "set()"
      ]
     },
     "execution_count": 80,
     "metadata": {},
     "output_type": "execute_result"
    }
   ],
   "source": [
    "my_set.clear()\n",
    "my_set"
   ]
  },
  {
   "cell_type": "markdown",
   "metadata": {},
   "source": [
    "**Using `zip` to create dictionaries**\n",
    "\n",
    "An interesting and very useful operator is `zip`, which creates pairs from two **parallel sequences**. The zip operator works like a zipper to merge multiple sequences into a list of tuples. It is not special to dictionaries, but when combined with the dict constructor, it provides a useful way to create dictionaries from sequences."
   ]
  },
  {
   "cell_type": "code",
   "execution_count": 81,
   "metadata": {},
   "outputs": [
    {
     "data": {
      "text/plain": [
       "{'red': 100, 'white': 300, 'blue': 500}"
      ]
     },
     "execution_count": 81,
     "metadata": {},
     "output_type": "execute_result"
    }
   ],
   "source": [
    "keys = ['red', 'white', 'blue']\n",
    "values = [100, 300, 500]\n",
    "\n",
    "d = dict(zip(keys, values))\n",
    "d"
   ]
  },
  {
   "cell_type": "markdown",
   "metadata": {},
   "source": [
    "**Dictionary and Set `comprehension`**\n",
    "\n",
    "```python\n",
    "{expression for-clause condition}\n",
    "```"
   ]
  },
  {
   "cell_type": "code",
   "execution_count": 82,
   "metadata": {},
   "outputs": [
    {
     "data": {
      "text/plain": [
       "{0: 'a', 1: 'b', 2: 'c', 3: 'd', 4: 'e', 5: 'f', 6: 'g'}"
      ]
     },
     "execution_count": 82,
     "metadata": {},
     "output_type": "execute_result"
    }
   ],
   "source": [
    "a_dict = {k:v for k,v in enumerate('abcdefg')}\n",
    "a_dict"
   ]
  },
  {
   "cell_type": "code",
   "execution_count": 84,
   "metadata": {},
   "outputs": [
    {
     "data": {
      "text/plain": [
       "{'a': 0, 'b': 1, 'c': 2, 'd': 3, 'e': 4, 'f': 5, 'g': 6}"
      ]
     },
     "execution_count": 84,
     "metadata": {},
     "output_type": "execute_result"
    }
   ],
   "source": [
    "b_dict = {v:k for k,v in a_dict.items()} # reverse key-value pairs\n",
    "b_dict"
   ]
  },
  {
   "cell_type": "code",
   "execution_count": 85,
   "metadata": {},
   "outputs": [
    {
     "data": {
      "text/plain": [
       "['a', 'b', 'c', 'd', 'e', 'f', 'g']"
      ]
     },
     "execution_count": 85,
     "metadata": {},
     "output_type": "execute_result"
    }
   ],
   "source": [
    "sorted(b_dict)"
   ]
  },
  {
   "cell_type": "code",
   "execution_count": 86,
   "metadata": {},
   "outputs": [
    {
     "data": {
      "text/plain": [
       "[('a', 0), ('b', 1), ('c', 2), ('d', 3), ('e', 4), ('f', 5), ('g', 6)]"
      ]
     },
     "execution_count": 86,
     "metadata": {},
     "output_type": "execute_result"
    }
   ],
   "source": [
    "b_list = [(v,k) for v,k in b_dict.items()]\n",
    "sorted(b_list)"
   ]
  },
  {
   "cell_type": "code",
   "execution_count": 87,
   "metadata": {},
   "outputs": [
    {
     "data": {
      "text/plain": [
       "{' ', 'b', 'e', 'n', 'o', 'r', 't'}"
      ]
     },
     "execution_count": 87,
     "metadata": {},
     "output_type": "execute_result"
    }
   ],
   "source": [
    "a_set = {ch for ch in 'to be or not to be'}\n",
    "a_set "
   ]
  },
  {
   "cell_type": "code",
   "execution_count": 88,
   "metadata": {},
   "outputs": [
    {
     "data": {
      "text/plain": [
       "[' ', 'b', 'e', 'n', 'o', 'r', 't']"
      ]
     },
     "execution_count": 88,
     "metadata": {},
     "output_type": "execute_result"
    }
   ],
   "source": [
    "sorted(a_set)"
   ]
  },
  {
   "cell_type": "code",
   "execution_count": null,
   "metadata": {},
   "outputs": [],
   "source": []
  },
  {
   "cell_type": "code",
   "execution_count": null,
   "metadata": {},
   "outputs": [],
   "source": []
  },
  {
   "cell_type": "code",
   "execution_count": null,
   "metadata": {},
   "outputs": [],
   "source": []
  },
  {
   "cell_type": "code",
   "execution_count": null,
   "metadata": {},
   "outputs": [],
   "source": []
  },
  {
   "cell_type": "code",
   "execution_count": null,
   "metadata": {},
   "outputs": [],
   "source": []
  },
  {
   "cell_type": "code",
   "execution_count": null,
   "metadata": {},
   "outputs": [],
   "source": []
  },
  {
   "cell_type": "code",
   "execution_count": null,
   "metadata": {},
   "outputs": [],
   "source": []
  },
  {
   "cell_type": "code",
   "execution_count": null,
   "metadata": {},
   "outputs": [],
   "source": []
  },
  {
   "cell_type": "code",
   "execution_count": null,
   "metadata": {},
   "outputs": [],
   "source": []
  },
  {
   "cell_type": "code",
   "execution_count": null,
   "metadata": {},
   "outputs": [],
   "source": []
  },
  {
   "cell_type": "code",
   "execution_count": null,
   "metadata": {},
   "outputs": [],
   "source": []
  },
  {
   "cell_type": "code",
   "execution_count": null,
   "metadata": {},
   "outputs": [],
   "source": []
  },
  {
   "cell_type": "code",
   "execution_count": null,
   "metadata": {},
   "outputs": [],
   "source": []
  }
 ],
 "metadata": {
  "kernelspec": {
   "display_name": "Python 3",
   "language": "python",
   "name": "python3"
  },
  "language_info": {
   "codemirror_mode": {
    "name": "ipython",
    "version": 3
   },
   "file_extension": ".py",
   "mimetype": "text/x-python",
   "name": "python",
   "nbconvert_exporter": "python",
   "pygments_lexer": "ipython3",
   "version": "3.7.3"
  }
 },
 "nbformat": 4,
 "nbformat_minor": 2
}
