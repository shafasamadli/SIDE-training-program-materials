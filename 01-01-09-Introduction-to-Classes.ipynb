{
 "cells": [
  {
   "cell_type": "markdown",
   "metadata": {},
   "source": [
    "> Controlling complexity is the essence of computer programming."
   ]
  },
  {
   "cell_type": "markdown",
   "metadata": {},
   "source": [
    "WE HAVE DISCUSSED AT LENGTH THE USE OF BUILT-IN DATA STRUCTURES AND methods for problem solving. What we have not addressed is how to build our own data structures. What if our problem requires a data structure and methods of our own design? In this chapter, we will introduce classes and how they can help us do exactly that."
   ]
  },
  {
   "cell_type": "code",
   "execution_count": 2,
   "metadata": {},
   "outputs": [],
   "source": [
    "# Simple Student Class\n",
    "\n",
    "class Student(object):\n",
    "    '''Simple Student class'''\n",
    "    def __init__(self, first='', last='', id=0): # initializer\n",
    "        self.first_name_str = first\n",
    "        self.last_name_str = last\n",
    "        self.id_int = id\n",
    "        \n",
    "    def __str__(self): # string representation\n",
    "        return '{} {}, ID:{}'.format(self.first_name_str, self.last_name_str, self.id_int)"
   ]
  },
  {
   "cell_type": "code",
   "execution_count": 3,
   "metadata": {},
   "outputs": [
    {
     "name": "stdout",
     "output_type": "stream",
     "text": [
      "Terry Jones, ID:123456\n"
     ]
    }
   ],
   "source": [
    "stu1 = Student('Terry', 'Jones', 123456)\n",
    "print(stu1)"
   ]
  },
  {
   "cell_type": "markdown",
   "metadata": {},
   "source": [
    "**Object-Oriented Programming**\n",
    "\n",
    "A common concept in modern programming languages design is the object-oriented program- ming paradigm. Object-oriented programming, or OOP for short, is a general approach to programming that grew out of a need to handle the increasing complexity of programming. It is not the only approach, and hopefully you will be exposed to others, but it is common and has a number of advantages.\n",
    "\n",
    "OOP is really a point of view. That point of view is that a program is a set of objects, where each object can interact with other program objects to accomplish the programmer’s goal. These objects will have two characteristics:\n",
    "\n",
    "* Each object has some number of `attributes` (e.g., color, make) that are stored within the object.\n",
    "* The object responds to some `methods`, which are also attributes, that are particular for that kind of object (e.g., move forward, print).\n",
    "\n",
    "\n",
    "**Python is Object-Oriented!**\n",
    "\n",
    "The good news is that we have been working with the OOP paradigm all along, because Python is fundamentally an OOP language. We have spoken often of Python objects and their associated methods. When we call a constructor such as `list` or `str` (or their shortcuts `[ ]` and `' '`), we are making a new object. Those objects have attributes. Both a list and string object are collections with multiple parts. Those objects respond to methods. We can sort a list by calling the method `my_list.sort()`, change a string to lowercase with the method `my_str.lower()`. We know how to work with objects; now we are moving on to making our own.\n",
    "\n",
    "In Python, there is a strong similarity between a type and a class. We have seen many examples of the difference among objects that are of type `str, list, int`, and many others. They store different things (strings store only strings, lists store any object, integers store only non-ﬂoating-point numbers) and respond to different methods, and even the same methods in different ways (the binary operator minus `-` is set difference for a set, subtraction for an integer).\n",
    "\n",
    "Object-oriented programming compels the programmer to think of the items in a program as objects. We have a lot of experience with this point of view in the programs we have written to date!"
   ]
  },
  {
   "cell_type": "markdown",
   "metadata": {},
   "source": [
    "**Characteristics of OOP**\n",
    "\n",
    "There are three characteristics typically associated with the OOP paradigm:\n",
    "\n",
    "* Encapsulation\n",
    "* Polymorphism\n",
    "* Inheritance\n",
    "\n",
    "It is difﬁcult to deﬁne these characteristics exactly at this point, so we will return to them after we get a better understanding of OOP. Keep them in mind as we lead you through the concepts of OOP.\n",
    "\n",
    "We will begin with a discussion of OOP in general and then examine the implementation of those concepts in Python."
   ]
  },
  {
   "cell_type": "markdown",
   "metadata": {},
   "source": [
    "**Class and Instance**\n",
    "\n",
    "The terms class and instance are important for understanding OOP. They can be surprisingly tricky to understand at ﬁrst, so we approach the concepts slowly.\n",
    "\n",
    "The viewpoint we take in this book is that a `class` is a `template` for making a new object and that an object made by a class template is called an `instance` of that class. Using a simple analogy, class and instance have a relationship similar to that between a cookie cutter and a cookie. A cookie cutter is a template for stamping out cookies. Once the template is made, we can stamp out any number (an inﬁnite number, in fact) of cookies, each one formed in the likeness deﬁned by the cutter (template).\n",
    "\n",
    "OOP works similarly. A class is a template for making an instance, and the instance reﬂects the structure provided by the template, the class. The class can “stamp out” any number (in fact, an inﬁnite number) of instances, each in the likeness of the class.\n",
    "\n",
    "We can apply our new terminology, class and instance, to the programming we have been doing. Any of the built-in data structures are defined as a class: a list is a class, as is a string, set, tuple, or dictionary. These classes can be used to make individual instances using either the constructor (respectively `list, str, set, tuple, dict`) or their shortcuts, where available. The constructor creates a new object, which is an instance of the class. These instances have internal attributes and associated methods that may be applied to those instances."
   ]
  },
  {
   "cell_type": "code",
   "execution_count": 4,
   "metadata": {},
   "outputs": [
    {
     "data": {
      "text/plain": [
       "list"
      ]
     },
     "execution_count": 4,
     "metadata": {},
     "output_type": "execute_result"
    }
   ],
   "source": [
    "my_list = [1, 2, 3]\n",
    "type(my_list)"
   ]
  },
  {
   "cell_type": "code",
   "execution_count": 5,
   "metadata": {},
   "outputs": [
    {
     "data": {
      "text/plain": [
       "str"
      ]
     },
     "execution_count": 5,
     "metadata": {},
     "output_type": "execute_result"
    }
   ],
   "source": [
    "my_str = 'abc'\n",
    "type(my_str)"
   ]
  },
  {
   "cell_type": "code",
   "execution_count": 6,
   "metadata": {},
   "outputs": [
    {
     "data": {
      "text/plain": [
       "'ABC'"
      ]
     },
     "execution_count": 6,
     "metadata": {},
     "output_type": "execute_result"
    }
   ],
   "source": [
    "my_str.upper()"
   ]
  },
  {
   "cell_type": "code",
   "execution_count": 7,
   "metadata": {},
   "outputs": [
    {
     "ename": "AttributeError",
     "evalue": "'str' object has no attribute 'sort'",
     "output_type": "error",
     "traceback": [
      "\u001b[1;31m---------------------------------------------------------------------------\u001b[0m",
      "\u001b[1;31mAttributeError\u001b[0m                            Traceback (most recent call last)",
      "\u001b[1;32m<ipython-input-7-330cc5fba611>\u001b[0m in \u001b[0;36m<module>\u001b[1;34m\u001b[0m\n\u001b[1;32m----> 1\u001b[1;33m \u001b[0mmy_str\u001b[0m\u001b[1;33m.\u001b[0m\u001b[0msort\u001b[0m\u001b[1;33m(\u001b[0m\u001b[1;33m)\u001b[0m\u001b[1;33m\u001b[0m\u001b[1;33m\u001b[0m\u001b[0m\n\u001b[0m",
      "\u001b[1;31mAttributeError\u001b[0m: 'str' object has no attribute 'sort'"
     ]
    }
   ],
   "source": [
    "my_str.sort()"
   ]
  },
  {
   "cell_type": "markdown",
   "metadata": {},
   "source": [
    "When an instance is made of any of the built-in data structures, the new instance has a type: the type of the class it was created from. As a result, certain methods deﬁned by the class are available to those instances. However, when an instance attempts to use a method `not` deﬁned as part of the class, an error results. The error message is also very telling - for example: `AttributeError: 'str' object has no attribute 'sort'`. It clearly states that the attribute being sought is not part of an element of this type (of this class)."
   ]
  },
  {
   "cell_type": "markdown",
   "metadata": {},
   "source": [
    "**Our First Class**"
   ]
  },
  {
   "cell_type": "code",
   "execution_count": 8,
   "metadata": {},
   "outputs": [],
   "source": [
    "class MyClass(object):\n",
    "    pass"
   ]
  },
  {
   "cell_type": "code",
   "execution_count": 9,
   "metadata": {},
   "outputs": [
    {
     "data": {
      "text/plain": [
       "['__class__',\n",
       " '__delattr__',\n",
       " '__dict__',\n",
       " '__dir__',\n",
       " '__doc__',\n",
       " '__eq__',\n",
       " '__format__',\n",
       " '__ge__',\n",
       " '__getattribute__',\n",
       " '__gt__',\n",
       " '__hash__',\n",
       " '__init__',\n",
       " '__init_subclass__',\n",
       " '__le__',\n",
       " '__lt__',\n",
       " '__module__',\n",
       " '__ne__',\n",
       " '__new__',\n",
       " '__reduce__',\n",
       " '__reduce_ex__',\n",
       " '__repr__',\n",
       " '__setattr__',\n",
       " '__sizeof__',\n",
       " '__str__',\n",
       " '__subclasshook__',\n",
       " '__weakref__']"
      ]
     },
     "execution_count": 9,
     "metadata": {},
     "output_type": "execute_result"
    }
   ],
   "source": [
    "dir(MyClass)"
   ]
  },
  {
   "cell_type": "code",
   "execution_count": 10,
   "metadata": {},
   "outputs": [
    {
     "data": {
      "text/plain": [
       "['__class__',\n",
       " '__delattr__',\n",
       " '__dict__',\n",
       " '__dir__',\n",
       " '__doc__',\n",
       " '__eq__',\n",
       " '__format__',\n",
       " '__ge__',\n",
       " '__getattribute__',\n",
       " '__gt__',\n",
       " '__hash__',\n",
       " '__init__',\n",
       " '__init_subclass__',\n",
       " '__le__',\n",
       " '__lt__',\n",
       " '__module__',\n",
       " '__ne__',\n",
       " '__new__',\n",
       " '__reduce__',\n",
       " '__reduce_ex__',\n",
       " '__repr__',\n",
       " '__setattr__',\n",
       " '__sizeof__',\n",
       " '__str__',\n",
       " '__subclasshook__',\n",
       " '__weakref__']"
      ]
     },
     "execution_count": 10,
     "metadata": {},
     "output_type": "execute_result"
    }
   ],
   "source": [
    "my_instance = MyClass()\n",
    "dir(my_instance)"
   ]
  },
  {
   "cell_type": "markdown",
   "metadata": {},
   "source": [
    "Basic conponents of a class definition.\n",
    "\n",
    "![](figures/basic-format-class.png)"
   ]
  },
  {
   "cell_type": "markdown",
   "metadata": {},
   "source": [
    "A class deﬁnition starts with the `class` keyword, followed by the class name. As with all names, the class name must adhere to normal Python naming rules. Class names use what is called the `CapWords` approach. Each word is capitalized, joined together without underscores. After assignment and `def`, the keyword `class` is our third example of making a new association in a namespace. The name that follows the keyword is the name of the class, and that name becomes associated with a class object. After the class name we include, in parentheses, the name of the parent class of our class.\n",
    "\n",
    "What follows the colon, as in previous Python compound statements, is a suite that deﬁnes the class. The suite can contain any relevant Python code, typically methods or variable assignments. This particular class has what is essentially an empty suite, except Python will not syntactically allow an empty suite. We use the Python keyword `pass` as we have before to indicate that the suite is indeed empty. In this context, the keyword pass is an indication of intent. We, the class designers, did not forget to add content; we intended to have no content.\n",
    "\n",
    "Once the class is deﬁned, we can inspect what we have made with the Python function `dir`. The function dir lists all of the `attributes` of the class. Python uses the word attribute to indicate both the methods of an object and the names of any values stored in an object. An attribute is a name associated with another object.\n",
    "\n",
    "You may have noticed something strange about the previous paragraph. We said that dir lists all the attributes of an object and used it on our class MyClass. Yes, a class is also an object. We will talk more about a class as an object later, but every class, every instance—in fact, nearly everything in Python—is an object!\n",
    "\n",
    "The function `dir` with the argument `MyClass` produced a long list attributes. Most of these were provided, by default, by Python through the special object named object. Even though we provided no attributes to `MyClass`, that class does indeed have a set of attributes, most of which begin and end with double underscore characters `_`. Python reserves a number of special methods and variables that begin with with a pair of underscore characters. These have predeﬁned meaning to Python in its OOP class system. We will be seeing more of these special names shortly."
   ]
  },
  {
   "cell_type": "markdown",
   "metadata": {},
   "source": [
    "**The Special Relationship Between an Instance and Class: `instance-of`**\n",
    "\n",
    "A special relationship holds between a class and its instance. This relationship is often called an `instance-of` relationship. That is, every instance is related to its respective class by the instance-of relationship: the instance is an instance of its template class. In fact, we can even see how that relationship is established. In the previous session we printed the value of `my_instance.__class__`, an attribute of my instance. When an instance is created, the class from which it was created is recorded in the special attribute name `__class__`  in the instance. In this way, an instance always “remembers” its class, the template from which it was created. When we `print(my instance__class__)`, we see that it is an instance of the class MyClass.\n",
    "\n",
    "![](figures/instance-of.png)"
   ]
  },
  {
   "cell_type": "markdown",
   "metadata": {},
   "source": [
    "**Object Methods**\n",
    "\n",
    "Functions that deﬁne the operations that can be done on an object are called methods. We know a lot about calling methods. Consider a string and the string’s count method. The count method takes a single argument, a string, and counts the number of occurrences of the argument string in the calling string."
   ]
  },
  {
   "cell_type": "code",
   "execution_count": 13,
   "metadata": {},
   "outputs": [
    {
     "name": "stdout",
     "output_type": "stream",
     "text": [
      "2\n"
     ]
    }
   ],
   "source": [
    "a_str = 'hi mom'\n",
    "print(a_str.count('m'))"
   ]
  },
  {
   "cell_type": "code",
   "execution_count": 14,
   "metadata": {},
   "outputs": [
    {
     "name": "stdout",
     "output_type": "stream",
     "text": [
      "<built-in method count of str object at 0x0000025EBB085768>\n"
     ]
    }
   ],
   "source": [
    "print(a_str.count)"
   ]
  },
  {
   "cell_type": "markdown",
   "metadata": {},
   "source": [
    "The variable `a_str` is associated with an instance of the string class, the string `\"hi  mom\"`. If we want to call a method on `a_str`, we use the the same dot notation that we used for attributes. The notation works because a method `is` just another attribute of an object. It just so happens that a method is a callable, or invokable, attribute. Just to make that clear, when we `print(a_str.count)`, we get a value back indicating that this particular attribute is a method of the `str` object. To invoke it, we use parentheses after the method name.\n",
    "\n",
    "To invoke the method, we must do so in the context of a string object, in this case the object associated with `a_str`. We can call count in the context of a string instance, because count works only with string instances. There might be other count methods (there is one for list instances, for example), but this particular method works only for strings, while the other count works only for lists. The names may be the same, but their operation depends on the type of object being used.\n",
    "\n",
    "The invocation is:\n",
    "\n",
    "```python\n",
    "a_str.count('m')\n",
    "```\n",
    "\n",
    "which can be read as `“Call the string method count using the string a str along with the argument 'm'.”` The result is how many times `'m'` shows up in the calling string, `a_str`.\n"
   ]
  },
  {
   "cell_type": "markdown",
   "metadata": {},
   "source": [
    "**Writing Methods**"
   ]
  },
  {
   "cell_type": "code",
   "execution_count": 32,
   "metadata": {},
   "outputs": [
    {
     "name": "stdout",
     "output_type": "stream",
     "text": [
      " output of dir(my instance): \n",
      "['__class__', '__delattr__', '__dict__', '__dir__', '__doc__', '__eq__', '__format__', '__ge__', '__getattribute__', '__gt__', '__hash__', '__init__', '__init_subclass__', '__le__', '__lt__', '__module__', '__ne__', '__new__', '__reduce__', '__reduce_ex__', '__repr__', '__setattr__', '__sizeof__', '__str__', '__subclasshook__', '__weakref__', 'class_attribute', 'my_method']\n",
      "\n",
      "hello  world \n",
      "The object that called this method is: <__main__.MyClass object at 0x0000025EBB0736A0>\n",
      " Instance has new attribute with value:  world \n",
      " output of dir(my instance): \n",
      "['__class__', '__delattr__', '__dict__', '__dir__', '__doc__', '__eq__', '__format__', '__ge__', '__getattribute__', '__gt__', '__hash__', '__init__', '__init_subclass__', '__le__', '__lt__', '__module__', '__ne__', '__new__', '__reduce__', '__reduce_ex__', '__repr__', '__setattr__', '__sizeof__', '__str__', '__subclasshook__', '__weakref__', 'class_attribute', 'instance_attribute', 'my_method']\n"
     ]
    }
   ],
   "source": [
    "class MyClass (object):\n",
    "    class_attribute = 'world'\n",
    "    \n",
    "    def my_method (self, param1): \n",
    "        print('\\nhello {}'.format(param1)) \n",
    "        print('The object that called this method is: {}'.\\\n",
    "              format( str ( self )))\n",
    "        self.instance_attribute = param1\n",
    "\n",
    "my_instance = MyClass()\n",
    "print(\" output of dir(my instance): \") \n",
    "print(dir(my_instance)) \n",
    "my_instance.my_method(' world ') # adds the instance attribute \n",
    "\n",
    "print(\" Instance has new attribute with value: {}\".format(my_instance.instance_attribute)) \n",
    "print(\" output of dir(my instance): \") \n",
    "print(dir(my_instance))"
   ]
  },
  {
   "cell_type": "markdown",
   "metadata": {},
   "source": [
    "**The Special Argument `self`**\n",
    "\n",
    "There is an oddity about the deﬁnition of our method that you may have noticed. We noted in the invocation that only one argument was passed, but in fact two parameters show up in the deﬁnition of the method: `self`, and `param1`. Our argument mapped to `param1`, but what is `self`?\n",
    "\n",
    "Python automatically maps the ﬁrst parameter in a method deﬁnition `to the object that called the method`.\n",
    "\n",
    "Traditionally, this ﬁrst parameter is called `self`, indicating that the object we are calling this method on is the object itself. The variable can be called anything, but self is the expected name. Any other name would be confusing to other programmers who have to read the code.\n",
    "The name self allows us to always have a way to reference the object that called the method. Anywhere in the method where the code references self, we are referenc- ing the object that called the method. In this way, we can perform the method’s operation on the object that called it.\n",
    "\n",
    "Look again at the previous code example. In the class deﬁnition, my method prints the value of self and also performs the following operation: `self.instance_attribute = param1`. This means that the object that called the method (in this case, my instance) is associated with self, and self has a new attribute added to it called instance attribute.\n",
    "\n",
    "![](figures/object-maps.png)"
   ]
  },
  {
   "cell_type": "markdown",
   "metadata": {},
   "source": [
    "> The method parameter `self` must **always** be placed as the ﬁrst parameter in any method deﬁnition. Further, any reference to the calling object must be made **through** self. That is, when we refer to a part of the calling object, we use dot referencing, as in self. instance attribute. This is a reference to the attribute `instance_attribute` in self, where self is associated with the calling object."
   ]
  },
  {
   "cell_type": "code",
   "execution_count": null,
   "metadata": {},
   "outputs": [],
   "source": []
  },
  {
   "cell_type": "markdown",
   "metadata": {},
   "source": [
    "Making Programmer - Defined Classes"
   ]
  },
  {
   "cell_type": "code",
   "execution_count": 55,
   "metadata": {},
   "outputs": [],
   "source": [
    "class Student(object):\n",
    "    \n",
    "    def __init__(self, first='', second='', id=0):\n",
    "        self.first_name_str = first\n",
    "        self.second_name_str = second\n",
    "        self.id_int = id\n",
    "        \n",
    "    def update(self, first='', second='', id=0):\n",
    "        if first:\n",
    "            self.first_name_str = first\n",
    "        if second:\n",
    "            self.second_name_str = second\n",
    "        if id:\n",
    "            self.id_int = id\n",
    "            \n",
    "    def __str__(self):\n",
    "        return '{} {}, ID: {}'.format(self.first_name_str, self.second_name_str, self.id_int)"
   ]
  },
  {
   "cell_type": "markdown",
   "metadata": {},
   "source": [
    "![](figures/instance.png)"
   ]
  },
  {
   "cell_type": "code",
   "execution_count": 58,
   "metadata": {},
   "outputs": [
    {
     "name": "stdout",
     "output_type": "stream",
     "text": [
      "Monty Python 0\n",
      "Monty Python, ID: 0\n"
     ]
    }
   ],
   "source": [
    "s1 = Student(first='Monty', second='Python')\n",
    "\n",
    "print(s1.first_name_str, s1.second_name_str, s1.id_int)\n",
    "\n",
    "# OR\n",
    "\n",
    "print(s1)"
   ]
  },
  {
   "cell_type": "code",
   "execution_count": 57,
   "metadata": {},
   "outputs": [
    {
     "name": "stdout",
     "output_type": "stream",
     "text": [
      "Java Python, ID: 0\n"
     ]
    }
   ],
   "source": [
    "s1.update(first='Java')\n",
    "\n",
    "print(s1)"
   ]
  },
  {
   "cell_type": "markdown",
   "metadata": {},
   "source": [
    "> Make sure that the str returns a value and that the value is a **string**. Odd things can happen otherwise."
   ]
  },
  {
   "cell_type": "code",
   "execution_count": null,
   "metadata": {},
   "outputs": [],
   "source": []
  },
  {
   "cell_type": "markdown",
   "metadata": {},
   "source": [
    "**Example: Point Class**\n"
   ]
  },
  {
   "cell_type": "code",
   "execution_count": 2,
   "metadata": {},
   "outputs": [],
   "source": [
    "import math\n",
    "\n",
    "class Point(object):\n",
    "    def __init__(self, x_param=0.0, y_param=0.0):\n",
    "        '''Create x and y attributes. Defaults are 0.0'''\n",
    "        self.x = x_param\n",
    "        self.y = y_param\n",
    "        \n",
    "    def distance(self, param_pt):\n",
    "        '''Distance between self and a Point'''\n",
    "        x_diff = self.x - param_pt.x\n",
    "        y_diff = self.y - param_pt.y\n",
    "        \n",
    "        # square differencem sum and sqrt\n",
    "        return math.sqrt(x_diff ** 2 + y_diff ** 2)\n",
    "    \n",
    "    def sum(self, param_pt):\n",
    "        '''Vector sum, return a new Point'''\n",
    "        return Point(self.x + param_pt.x, self.y + param_pt.y)\n",
    "    \n",
    "    def __str__(self):\n",
    "        '''Print as a coordinate pair'''\n",
    "        return '({:.2f}, {:.2f})'.format(self.x, self.y)"
   ]
  },
  {
   "cell_type": "code",
   "execution_count": 3,
   "metadata": {},
   "outputs": [
    {
     "name": "stdout",
     "output_type": "stream",
     "text": [
      "4.47213595499958\n"
     ]
    }
   ],
   "source": [
    "p1 = Point(2.0, 4.0) # create a point with x and y values\n",
    "p2 = Point() # create a point with default values\n",
    "\n",
    "print(p1.distance(p2))"
   ]
  },
  {
   "cell_type": "code",
   "execution_count": 5,
   "metadata": {},
   "outputs": [
    {
     "name": "stdout",
     "output_type": "stream",
     "text": [
      "(2.00, 4.00)\n"
     ]
    }
   ],
   "source": [
    "p3 = p1.sum(p2)\n",
    "print(p3)"
   ]
  },
  {
   "cell_type": "code",
   "execution_count": null,
   "metadata": {},
   "outputs": [],
   "source": []
  },
  {
   "cell_type": "markdown",
   "metadata": {},
   "source": [
    "**Indicating Privacy Using double `underscore`**"
   ]
  },
  {
   "cell_type": "code",
   "execution_count": 6,
   "metadata": {},
   "outputs": [],
   "source": [
    "class NewClass(object):\n",
    "    def __init__(self, attribute='default', name='instance'):\n",
    "        self.name = name\n",
    "        self.__attribute = attribute\n",
    "    def __str__(self):\n",
    "        return '{} has attribute {}.'.format(self.name, self.__attribute)"
   ]
  },
  {
   "cell_type": "code",
   "execution_count": 7,
   "metadata": {},
   "outputs": [
    {
     "name": "stdout",
     "output_type": "stream",
     "text": [
      "Monty has attribute Python.\n"
     ]
    }
   ],
   "source": [
    "inst1 = NewClass(name='Monty', attribute='Python')\n",
    "print(inst1)"
   ]
  },
  {
   "cell_type": "code",
   "execution_count": 9,
   "metadata": {},
   "outputs": [
    {
     "data": {
      "text/plain": [
       "'Monty'"
      ]
     },
     "execution_count": 9,
     "metadata": {},
     "output_type": "execute_result"
    }
   ],
   "source": [
    "inst1.name"
   ]
  },
  {
   "cell_type": "code",
   "execution_count": 10,
   "metadata": {},
   "outputs": [
    {
     "ename": "AttributeError",
     "evalue": "'NewClass' object has no attribute '__attribute'",
     "output_type": "error",
     "traceback": [
      "\u001b[1;31m---------------------------------------------------------------------------\u001b[0m",
      "\u001b[1;31mAttributeError\u001b[0m                            Traceback (most recent call last)",
      "\u001b[1;32m<ipython-input-10-d6904caf1b7d>\u001b[0m in \u001b[0;36m<module>\u001b[1;34m\u001b[0m\n\u001b[1;32m----> 1\u001b[1;33m \u001b[0minst1\u001b[0m\u001b[1;33m.\u001b[0m\u001b[0m__attribute\u001b[0m\u001b[1;33m\u001b[0m\u001b[1;33m\u001b[0m\u001b[0m\n\u001b[0m",
      "\u001b[1;31mAttributeError\u001b[0m: 'NewClass' object has no attribute '__attribute'"
     ]
    }
   ],
   "source": [
    "inst1.__attribute"
   ]
  },
  {
   "cell_type": "code",
   "execution_count": null,
   "metadata": {},
   "outputs": [],
   "source": []
  },
  {
   "cell_type": "markdown",
   "metadata": {},
   "source": [
    "![](figures/method-names.png)"
   ]
  },
  {
   "cell_type": "code",
   "execution_count": null,
   "metadata": {},
   "outputs": [],
   "source": []
  },
  {
   "cell_type": "markdown",
   "metadata": {},
   "source": [
    "# Example using all the functionality of `class`."
   ]
  },
  {
   "cell_type": "code",
   "execution_count": null,
   "metadata": {},
   "outputs": [],
   "source": []
  }
 ],
 "metadata": {
  "kernelspec": {
   "display_name": "Python 3",
   "language": "python",
   "name": "python3"
  },
  "language_info": {
   "codemirror_mode": {
    "name": "ipython",
    "version": 3
   },
   "file_extension": ".py",
   "mimetype": "text/x-python",
   "name": "python",
   "nbconvert_exporter": "python",
   "pygments_lexer": "ipython3",
   "version": "3.7.3"
  }
 },
 "nbformat": 4,
 "nbformat_minor": 2
}
